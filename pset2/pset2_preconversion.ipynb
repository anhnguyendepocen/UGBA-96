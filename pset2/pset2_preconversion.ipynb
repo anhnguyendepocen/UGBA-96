{
 "cells": [
  {
   "cell_type": "markdown",
   "metadata": {},
   "source": [
    "## Problem Set 2\n",
    "### UGBA 96: Data and Decisions, Fall 2018"
   ]
  },
  {
   "cell_type": "code",
   "execution_count": null,
   "metadata": {},
   "outputs": [],
   "source": [
    "from datascience import *\n",
    "import matplotlib\n",
    "import gsExport\n",
    "import numpy as np\n",
    "import pandas as pd\n",
    "matplotlib.use('Agg', warn=False)\n",
    "%matplotlib inline"
   ]
  },
  {
   "cell_type": "markdown",
   "metadata": {},
   "source": [
    "Deadline: This assignment is due Monday, September 24th at noon (12pm). Late work will not be accepted.\n",
    "\n",
    "You will submit your solutions using both OKpy and Gradescope. You will find detailed submission instructions at the bottom of this notebook and on bCourses ([here](https://bcourses.berkeley.edu/files/73630077/download?download_frd=1)). **Please do not remove or add cells and please ignore the '#newpage' cells** (these are here to facilitate Gradescope submission).\n",
    "\n",
    "You should start early so that you have time to get help if you're stuck. Post questions on Piazza. Check the syllabus  for the office hours schedule. Remember that Connector Assistant office hours are for *coding questions only*."
   ]
  },
  {
   "cell_type": "markdown",
   "metadata": {},
   "source": [
    "#student\n",
    "## Question 1"
   ]
  },
  {
   "cell_type": "markdown",
   "metadata": {},
   "source": [
    "**(20 points)** The dataset you will analyze in this exercise is a random sample of all recent roundtrip airline tickets purhased for travel between New York’s John F. Kennedy Airport (JFK) and Los Angeles Airport (LAX). First-class fares have been excluded. For each ticket the data includes the following variables:\n",
    "\n",
    "1. `carrier`: the airline\n",
    "2. `rtrip_fare`: round trip fare\n",
    "3. `advance`: number of days in advance of flight each ticket was purchased\n",
    "4. `busclass`: indicator for business class ('1' if business class, '0' if not)\n",
    "5. `nonrefundable`: indicator for whether a ticket purchased was a nonrefundable ticket\n",
    "6. `satstayover`: indicator for whether a roundtrip ticket includes a Saturday stayover in the destination location"
   ]
  },
  {
   "cell_type": "code",
   "execution_count": null,
   "metadata": {},
   "outputs": [],
   "source": [
    "#read in the ticket data\n",
    "ticket_data = Table.read_table('ticket_prices.csv')\n",
    "ticket_data.show(5)"
   ]
  },
  {
   "cell_type": "markdown",
   "metadata": {},
   "source": [
    "#student\n",
    "**a. (1 point)** How many airlines are represented in these data?"
   ]
  },
  {
   "cell_type": "code",
   "execution_count": null,
   "metadata": {},
   "outputs": [],
   "source": [
    "#student\n",
    "#Write code here"
   ]
  },
  {
   "cell_type": "markdown",
   "metadata": {},
   "source": [
    "#student\n",
    "*Write answer here*"
   ]
  },
  {
   "cell_type": "markdown",
   "metadata": {},
   "source": [
    "#student\n",
    "**b. (2 points)** Compute the mean and median round trip fare."
   ]
  },
  {
   "cell_type": "code",
   "execution_count": null,
   "metadata": {},
   "outputs": [],
   "source": [
    "#student\n",
    "#Write code here"
   ]
  },
  {
   "cell_type": "markdown",
   "metadata": {},
   "source": [
    "#student\n",
    "**c. (3 points)** Create a histogram of trip fare. Why is there so much blank space on the right side of the histogram?"
   ]
  },
  {
   "cell_type": "code",
   "execution_count": null,
   "metadata": {},
   "outputs": [],
   "source": [
    "#student\n",
    "#write code here"
   ]
  },
  {
   "cell_type": "markdown",
   "metadata": {},
   "source": [
    "#student\n",
    "*Write answer here*"
   ]
  },
  {
   "cell_type": "markdown",
   "metadata": {},
   "source": [
    "#student\n",
    "**d. (2 points)** Create a histogram using only tickets under $1000."
   ]
  },
  {
   "cell_type": "code",
   "execution_count": null,
   "metadata": {},
   "outputs": [],
   "source": [
    "#student\n",
    "#write code here"
   ]
  },
  {
   "cell_type": "markdown",
   "metadata": {},
   "source": [
    "#student\n",
    "**e. (2 points)** Is one of the airlines much cheaper on average than the other?"
   ]
  },
  {
   "cell_type": "code",
   "execution_count": null,
   "metadata": {},
   "outputs": [],
   "source": [
    "#student\n",
    "#write code here"
   ]
  },
  {
   "cell_type": "markdown",
   "metadata": {},
   "source": [
    "#student\n",
    "*Write answer here*"
   ]
  },
  {
   "cell_type": "markdown",
   "metadata": {},
   "source": [
    "#student\n",
    "**f. (3 points)** Measure the price difference between tickets with `satstayover` == 1 and `satstayover` == 0. Why do you think this price difference exists?"
   ]
  },
  {
   "cell_type": "code",
   "execution_count": null,
   "metadata": {},
   "outputs": [],
   "source": [
    "#student\n",
    "#write code here"
   ]
  },
  {
   "cell_type": "markdown",
   "metadata": {},
   "source": [
    "#student\n",
    "*Write answer here*"
   ]
  },
  {
   "cell_type": "markdown",
   "metadata": {},
   "source": [
    "In the next three exercises we will document the relationship between `advance` and `rtrip_fare`."
   ]
  },
  {
   "cell_type": "markdown",
   "metadata": {},
   "source": [
    "#student\n",
    "**g. (2 points)** Create a scatter plot with `rtrip_fare` on the vertical axis and `advance` on the horizontal axis."
   ]
  },
  {
   "cell_type": "code",
   "execution_count": null,
   "metadata": {},
   "outputs": [],
   "source": [
    "#student\n",
    "#write code here"
   ]
  },
  {
   "cell_type": "markdown",
   "metadata": {},
   "source": [
    "#student\n",
    "**h. (4 points)** Next, you will use what’s called a \"bin scatter” plot to make this relationship even clearer. First, we have grouped tickets into ventiles (like quartiles, except 20 groups instead of 4) based on their `advance` value for you. Calculate the average fare and average advance days by ventile. Finally, scatter plot those averages against each other. There should be 20 observations in total."
   ]
  },
  {
   "cell_type": "code",
   "execution_count": null,
   "metadata": {},
   "outputs": [],
   "source": [
    "#student\n",
    "#write code here\n",
    "#the code below creates a column that maps each advance value to a ventile\n",
    "price_bins = pd.qcut(ticket_data.column('advance'), 20, labels=False)"
   ]
  },
  {
   "cell_type": "markdown",
   "metadata": {},
   "source": [
    "#student\n",
    "**i. (1 point)** What do you notice about this relationship?"
   ]
  },
  {
   "cell_type": "markdown",
   "metadata": {},
   "source": [
    "#student\n",
    "*Write answer here*"
   ]
  },
  {
   "cell_type": "markdown",
   "metadata": {},
   "source": [
    "#newpage"
   ]
  },
  {
   "cell_type": "markdown",
   "metadata": {},
   "source": [
    "#student\n",
    "## Question 2"
   ]
  },
  {
   "cell_type": "markdown",
   "metadata": {},
   "source": [
    "<img src=\"wms_logo.png\" alt=\"Drawing\" style=\"width: 300px;\"/>\n",
    "\n",
    "**(20 points)** In this question we analyze the World Management Survey, a survey of management practices at firms across the world. There are dramatic differences in productivity across countries and across companies *within* countries. The quality of management is thought to be one important driver. But historically, we have not had good measures of management quality. The World Management Survey helps to fill this void.\n",
    "\n",
    "The survey is designed in collaboration with McKinsey, a leading management consulting firm. In the survey, firms are evaluated based on 18 basic management practices. Each firm is scored on how their practices compare to what management consulting firms commonly understand as \"best practices.\" The survey focuses on measuring management practices along three operations-focused dimensions: (1) performance monitoring, (2) target setting, and (3) incentives/people management.\n",
    "\n",
    "First, **monitoring**: how well do organizations monitor what goes on inside the firm, and use this information for continuous improvement? \n",
    "\n",
    "Second, **targets**: do organizations set the right targets, track the right outcomes, and take appropriate action if the two are inconsistent? \n",
    "\n",
    "Third, **incentives**: are organizations promoting and rewarding employees based on performance, prioritizing hiring, and trying to keep their best employees?\n",
    "\n",
    "The researchers use an open-ended telephone survey to assess firms on these dimensions. The process is described in more detail in this excerpt from a [background paper](https://pubs.aeaweb.org/doi/pdfplus/10.1257/jep.24.1.203) on the survey:\n",
    "\n",
    "*To [score firms], we used open questions in the survey. For example, on the first monitoring dimension, we start by asking the open question “tell me how you monitor your production process,” rather than closed questions such as “do you monitor your production daily [yes/no].” We continue with open questions focusing on actual practices and examples until the interviewer can make an accurate assessment of the firm’s practices. For example, the second question on that monitoring dimension is “What kinds of measures would you use to track performance?” and the third is “If I walked round your factory what could I tell about how each person was performing?” The combined responses to this dimension are scored against a grid which goes from 1 (out of 5), which is defined as “**Measures tracked do not indicate directly if overall business objectives are being met. Tracking is an ad-hoc process (certain processes aren’t tracked at all)**,” up to 5 which is defined as “**Performance is continuously tracked and communicated, both formally and informally, to all staff using a range of visual management tools.**”*\n",
    "\n",
    "In this problem you will analyze data from a extract of the World Management Survey. The first extract includes data from 9,207 manufacturing firms located in 20 countries. The second extract includes data from 2,926 manufacturing firms located in 18 countries.\n",
    "\n",
    "Run the cell below to read in the first data extract."
   ]
  },
  {
   "cell_type": "code",
   "execution_count": null,
   "metadata": {},
   "outputs": [],
   "source": [
    "#read in the WMS data\n",
    "wms_pt1_data = Table.read_table('wms_pt1.csv')\n",
    "wms_pt1_data.show(5)"
   ]
  },
  {
   "cell_type": "markdown",
   "metadata": {},
   "source": [
    "Here's a description of what each column represents:\n",
    "\n",
    "- `firm_id`: id for each firm\n",
    "\n",
    "- `management`: a firm's overall management score, average across all questions\n",
    "    \n",
    "- `monitor`: a firm's average score for all questions related to monitoring\n",
    "    \n",
    "- `target`: a firm's average score for all questions relate to target setting and tracking\n",
    "    \n",
    "- `people`: a firm's average score for all questions related to incentivizing employees\n",
    "    \n",
    "- `country`: the firm a country is located in\n",
    "\n",
    "- `emerging`: an indicator for whether the firm is located an in emerging market (in these data: Brazil, China, and India)"
   ]
  },
  {
   "cell_type": "markdown",
   "metadata": {},
   "source": [
    "#student\n",
    "**a. (1 point)** What countries are represented in data?"
   ]
  },
  {
   "cell_type": "code",
   "execution_count": null,
   "metadata": {},
   "outputs": [],
   "source": [
    "#student\n",
    "#write code here"
   ]
  },
  {
   "cell_type": "markdown",
   "metadata": {},
   "source": [
    "#student\n",
    "**b. (2 points)** The total `management` score is an average of three dimensions. As measured in the survey, how does variation in quality compare across dimensions? Does one dimension vary more or less than the others?"
   ]
  },
  {
   "cell_type": "code",
   "execution_count": null,
   "metadata": {},
   "outputs": [],
   "source": [
    "#student\n",
    "#Write code here"
   ]
  },
  {
   "cell_type": "markdown",
   "metadata": {},
   "source": [
    "#student\n",
    "*Write answer here*"
   ]
  },
  {
   "cell_type": "markdown",
   "metadata": {},
   "source": [
    "#student\n",
    "**c. (4 points)** Next, you will look at how `management` varies across countries. Create a bar plot of average management score by country, ordered by average management score. Describe your findings."
   ]
  },
  {
   "cell_type": "code",
   "execution_count": null,
   "metadata": {},
   "outputs": [],
   "source": [
    "#student\n",
    "#Write code here"
   ]
  },
  {
   "cell_type": "markdown",
   "metadata": {},
   "source": [
    "#student\n",
    "*Write answer here: what do you find?*"
   ]
  },
  {
   "cell_type": "markdown",
   "metadata": {},
   "source": [
    "#student\n",
    "**d. (4 points)** Plot histograms of `management` separately for the United States and for emerging markets. *Be sure that the two histograms have the same bin endpoints to facilitate comparison.* How do the two distributions differ?"
   ]
  },
  {
   "cell_type": "code",
   "execution_count": null,
   "metadata": {},
   "outputs": [],
   "source": [
    "#student\n",
    "#Write code for first histogram here"
   ]
  },
  {
   "cell_type": "code",
   "execution_count": null,
   "metadata": {},
   "outputs": [],
   "source": [
    "#student\n",
    "#Write code for second histogram here"
   ]
  },
  {
   "cell_type": "markdown",
   "metadata": {},
   "source": [
    "#student\n",
    "*Write answer here: how do the distributions differ?*"
   ]
  },
  {
   "cell_type": "markdown",
   "metadata": {},
   "source": [
    "The survey methodology is backed by McKinsey's understanding of what constitutes 'best practices' in management. These are agreed upon best practices because experts believe these practices cause better firm performance. In the last part of this problem, we will assess this premise by documenting the relationship between `management` and firm performance using available data.\n",
    "\n",
    "For the second part of this problem, we will read in a second (smaller) extract of WMS data that contains information on each surveyed firm's number of employees and annual sales. We can use these two columns to construct a measure of *productivity*: sales per employee."
   ]
  },
  {
   "cell_type": "code",
   "execution_count": null,
   "metadata": {},
   "outputs": [],
   "source": [
    "#read in the WMS data\n",
    "wms_pt2_data = Table.read_table('wms_pt2.csv')\n",
    "wms_pt2_data.show(5)"
   ]
  },
  {
   "cell_type": "markdown",
   "metadata": {},
   "source": [
    "This extract features two additional columns, `sales` and `employment`. They are defined as follows:\n",
    "- `sales`: sales in US dollars\n",
    "- `employment`: total employees at the firm"
   ]
  },
  {
   "cell_type": "markdown",
   "metadata": {},
   "source": [
    "#student\n",
    "**e. (2 points)** Construct a column for sales per employee and add that column to our original table, `wms_pt2_data`."
   ]
  },
  {
   "cell_type": "code",
   "execution_count": null,
   "metadata": {},
   "outputs": [],
   "source": [
    "#student\n",
    "#write code here"
   ]
  },
  {
   "cell_type": "markdown",
   "metadata": {},
   "source": [
    "#student\n",
    "**f. (4 points)** Plot your sales per employee measure against `management` using a bin scatter plot (see Q1.h for more details)."
   ]
  },
  {
   "cell_type": "code",
   "execution_count": null,
   "metadata": {},
   "outputs": [],
   "source": [
    "#student\n",
    "#write code here"
   ]
  },
  {
   "cell_type": "markdown",
   "metadata": {},
   "source": [
    "#student\n",
    "**g. (3 points)** Describe the relationship you observe. Does this support the claim that management is an important *cause* of firm productivity? Can you think of an alternative explanation?"
   ]
  },
  {
   "cell_type": "markdown",
   "metadata": {},
   "source": [
    "#student\n",
    "*Write answer here*"
   ]
  },
  {
   "cell_type": "markdown",
   "metadata": {},
   "source": [
    "In the next problem set, we will study a randomized experiment that will allow us to measure the causal relationship between management and sales or profitability."
   ]
  },
  {
   "cell_type": "markdown",
   "metadata": {},
   "source": [
    "## Submission"
   ]
  },
  {
   "cell_type": "markdown",
   "metadata": {},
   "source": [
    "Before submitting, please click \"Kernel\" above and click \"Restart & Run All\" to ensure all of your code is working as expected. After confirming that all of your work looks and runs as you'd like it to, run the below cells to submit your work.\n",
    "Make sure that the following runs successfully for submission to OkPy."
   ]
  },
  {
   "cell_type": "code",
   "execution_count": null,
   "metadata": {},
   "outputs": [],
   "source": [
    "from client.api.notebook import Notebook\n",
    "ok = Notebook('pset2.ok')                \n",
    "_ = ok.auth(inline=True)\n",
    "_ = ok.submit()"
   ]
  },
  {
   "cell_type": "markdown",
   "metadata": {},
   "source": [
    "Make sure that the following runs successfully to generate a PDF to upload to Gradescope."
   ]
  },
  {
   "cell_type": "code",
   "execution_count": null,
   "metadata": {},
   "outputs": [],
   "source": [
    "gsExport.generateSubmission('pset2.ipynb')"
   ]
  }
 ],
 "metadata": {
  "kernelspec": {
   "display_name": "Python 3",
   "language": "python",
   "name": "python3"
  },
  "language_info": {
   "codemirror_mode": {
    "name": "ipython",
    "version": 3
   },
   "file_extension": ".py",
   "mimetype": "text/x-python",
   "name": "python",
   "nbconvert_exporter": "python",
   "pygments_lexer": "ipython3",
   "version": "3.6.6"
  }
 },
 "nbformat": 4,
 "nbformat_minor": 1
}
