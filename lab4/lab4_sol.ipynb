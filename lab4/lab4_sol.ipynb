{
 "cells": [
  {
   "cell_type": "markdown",
   "metadata": {},
   "source": [
    "## Lab 4\n",
    "### UGBA 96: Data and Decisions, Fall 2018\n",
    "\n",
    "\n",
    "---\n",
    "\n",
    "\n",
    "<img src='michigan_map.png'>\n",
    "\n",
    "## The Effectiveness of a 'Get-Out-The-Vote' Campaign \n",
    "\n",
    "In this lab we will go over the matching method for causal infererence.\n",
    "\n",
    "### Table of Contents\n",
    "\n",
    "[Background](#bground) <br>\n",
    "1. [The Dataset](#data) <br>\n",
    "2. [Matching on a Single Covariate](#single) <br>\n",
    "3. [Matching on a Set of Covariates](#set) <br>\n"
   ]
  },
  {
   "cell_type": "code",
   "execution_count": 1,
   "metadata": {},
   "outputs": [
    {
     "name": "stdout",
     "output_type": "stream",
     "text": [
      "=====================================================================\n",
      "Assignment: Lab 4\n",
      "OK, version v1.12.5\n",
      "=====================================================================\n",
      "\n",
      "Successfully logged in as ccmiller@berkeley.edu\n"
     ]
    }
   ],
   "source": [
    "from datascience import *\n",
    "import numpy as np\n",
    "\n",
    "import matplotlib.pyplot as plt\n",
    "%matplotlib inline\n",
    "plt.style.use('fivethirtyeight')\n",
    "\n",
    "import warnings\n",
    "warnings.filterwarnings('ignore')\n",
    "\n",
    "from client.api.notebook import Notebook\n",
    "ok = Notebook('lab4.ok')\n",
    "_ = ok.auth(inline=True)"
   ]
  },
  {
   "cell_type": "markdown",
   "metadata": {},
   "source": [
    "**Warmup:** In your own words, what is the **fundamental problem of causal inference**?"
   ]
  },
  {
   "cell_type": "markdown",
   "metadata": {},
   "source": [
    "*#write answer here*"
   ]
  },
  {
   "cell_type": "markdown",
   "metadata": {},
   "source": [
    "----\n",
    "\n",
    "## Background <a id='bground'></a>\n",
    "\n",
    "Compared to other developed countries, the United States has low voter turnout rates. About 55.5% of the U.S. voting-age population casted ballots in the 2016 presidential election. In the 2000 presidential election, the turnout rate was 50.3%.\n",
    "\n",
    "Fearing another low turnout in the 2002 midterm elections, civic groups in Iowa and Michigan launched the Vote 2002 Campaign to boost voter turnout. In the week prior to the election, Vote 2002 volunteers called 60,000 voters on the phone and gave them the following message:\n",
    "\n",
    "*\"Hello, may I speak with [name of person] please? Hi. This is [caller's name] calling from Vote 2002, a nonpartisan effort working to encourage citizens to vote. We just wanted to remind you that elections are being held this Tuesday. The success of our democracy depends on whether we exercise our right to vote or not, so we hope you'll come out and vote this Tuesday. Can I count on you to vote next Tuesday?”*\n",
    "\n",
    "Our causal question for the day is: **Did the Vote 2002 campaign work? Did it increase voter turnout in the 2002 Congressional elections?** \n",
    "\n",
    "To estimate the causal effect of receving a Vote 2002 phone call, we'll need to compare the outcomes of voters that received a call--we'll call them **contacted** voters--to the outcomes for some comparison group. For our causal effect estimate to be accurate, the comparison group we use will need to reflect the *counterfactual* outcomes for contacted voters: what those voters *would have* done if they had not received the Vote 2002 call. If the comparison group poorly represents the counterfactual, our estimate will be biased.\n",
    "\n",
    "For the comparison group to represent the counterfactual, we need the only relevant difference between contacted voters and comparison voters to be that comparison voters did not receive a phone call while contacted voters did. The idea of **matching** is to find a comparable uncontacted voter for each contacted voter, and then use that set of matches as a comparison group.\n",
    "\n",
    "----\n",
    "\n",
    "## Section 1: The Dataset <a id='data'></a>\n",
    "\n",
    "The dataset we'll use was compiled by the Vote 2002 campaign staff. The staff had demographic data for each voter they attempted to contact, and marked whether each call was completed successfully or not. Later, in order to measure the impact of their campaign, they merged these data with official voting records to see if voters did go out and vote.\n",
    "\n",
    "Here is a description of each column in the dataset:\n",
    "\n",
    "* **contact** - indicator for whether voter was successfully contacted by volunteer\n",
    "* **vote02** - indicator for whether the voter votes in the 2002 election (*this is the outcome of interest*)\n",
    "* **vote98** - indicator for whether the voter voted in the 1998 election\n",
    "* **newreg** - indicator for wheter voter is newly registered voter\n",
    "* **age** -  age of voter\n",
    "* **female** - indicator for female\n",
    "\n",
    "The original data include over 2 million potential voters in Iowa and Michigan. In order for us to not spend the whole lab period waiting for a cell to finish running, we'll focus on a subset of the data: voters from Oakland county in Michigan (the county that contains Detroit)."
   ]
  },
  {
   "cell_type": "code",
   "execution_count": 2,
   "metadata": {},
   "outputs": [
    {
     "data": {
      "text/html": [
       "<table border=\"1\" class=\"dataframe\">\n",
       "    <thead>\n",
       "        <tr>\n",
       "            <th>treatment</th> <th>contact</th> <th>vote02</th> <th>vote98</th> <th>newreg</th> <th>age</th> <th>female</th>\n",
       "        </tr>\n",
       "    </thead>\n",
       "    <tbody>\n",
       "        <tr>\n",
       "            <td>0        </td> <td>0      </td> <td>0     </td> <td>0     </td> <td>0     </td> <td>45  </td> <td>0     </td>\n",
       "        </tr>\n",
       "        <tr>\n",
       "            <td>0        </td> <td>0      </td> <td>1     </td> <td>0     </td> <td>0     </td> <td>48  </td> <td>1     </td>\n",
       "        </tr>\n",
       "        <tr>\n",
       "            <td>0        </td> <td>0      </td> <td>1     </td> <td>0     </td> <td>0     </td> <td>38  </td> <td>0     </td>\n",
       "        </tr>\n",
       "        <tr>\n",
       "            <td>0        </td> <td>0      </td> <td>0     </td> <td>0     </td> <td>0     </td> <td>33  </td> <td>0     </td>\n",
       "        </tr>\n",
       "        <tr>\n",
       "            <td>0        </td> <td>0      </td> <td>1     </td> <td>1     </td> <td>0     </td> <td>44  </td> <td>1     </td>\n",
       "        </tr>\n",
       "    </tbody>\n",
       "</table>\n",
       "<p>... (22124 rows omitted)</p>"
      ],
      "text/plain": [
       "<IPython.core.display.HTML object>"
      ]
     },
     "metadata": {},
     "output_type": "display_data"
    }
   ],
   "source": [
    "#run this cell to load the data\n",
    "\n",
    "#read in data\n",
    "data = Table.read_table(\"mi_voters.csv\")\n",
    "\n",
    "data.show(5)"
   ]
  },
  {
   "cell_type": "markdown",
   "metadata": {},
   "source": [
    "**Q1.1:** Now for a coding warm-up. What percentage of voters in our data were *contacted*?"
   ]
  },
  {
   "cell_type": "code",
   "execution_count": 3,
   "metadata": {},
   "outputs": [
    {
     "data": {
      "text/plain": [
       "0.016268245288987303"
      ]
     },
     "execution_count": 3,
     "metadata": {},
     "output_type": "execute_result"
    }
   ],
   "source": [
    "#assign the percentage to the variable percent_voters_contacted\n",
    "\n",
    "percent_voters_contacted = np.mean(data.column('contact'))\n",
    "percent_voters_contacted"
   ]
  },
  {
   "cell_type": "code",
   "execution_count": 4,
   "metadata": {},
   "outputs": [
    {
     "name": "stdout",
     "output_type": "stream",
     "text": [
      "~~~~~~~~~~~~~~~~~~~~~~~~~~~~~~~~~~~~~~~~~~~~~~~~~~~~~~~~~~~~~~~~~~~~~\n",
      "Running tests\n",
      "\n",
      "---------------------------------------------------------------------\n",
      "Test summary\n",
      "    Passed: 1\n",
      "    Failed: 0\n",
      "[ooooooooook] 100.0% passed\n",
      "\n"
     ]
    }
   ],
   "source": [
    "_ = ok.grade(\"q1_1\")"
   ]
  },
  {
   "cell_type": "markdown",
   "metadata": {},
   "source": [
    "Let's first check how voter turnout compares between contacted and non-contacted voters. For exercises below we'll find it useful to separate the data into two tables, one for contacted voters and the other for non-contacted voters."
   ]
  },
  {
   "cell_type": "code",
   "execution_count": 5,
   "metadata": {},
   "outputs": [
    {
     "data": {
      "text/html": [
       "<table border=\"1\" class=\"dataframe\">\n",
       "    <thead>\n",
       "        <tr>\n",
       "            <th>treatment</th> <th>contact</th> <th>vote02</th> <th>vote98</th> <th>newreg</th> <th>age</th> <th>female</th>\n",
       "        </tr>\n",
       "    </thead>\n",
       "    <tbody>\n",
       "        <tr>\n",
       "            <td>1        </td> <td>1      </td> <td>0     </td> <td>1     </td> <td>0     </td> <td>68  </td> <td>1     </td>\n",
       "        </tr>\n",
       "        <tr>\n",
       "            <td>1        </td> <td>1      </td> <td>1     </td> <td>1     </td> <td>0     </td> <td>44  </td> <td>0     </td>\n",
       "        </tr>\n",
       "        <tr>\n",
       "            <td>1        </td> <td>1      </td> <td>1     </td> <td>1     </td> <td>0     </td> <td>43  </td> <td>1     </td>\n",
       "        </tr>\n",
       "        <tr>\n",
       "            <td>1        </td> <td>1      </td> <td>1     </td> <td>1     </td> <td>0     </td> <td>83  </td> <td>0     </td>\n",
       "        </tr>\n",
       "        <tr>\n",
       "            <td>1        </td> <td>1      </td> <td>1     </td> <td>1     </td> <td>0     </td> <td>70  </td> <td>0     </td>\n",
       "        </tr>\n",
       "        <tr>\n",
       "            <td>1        </td> <td>1      </td> <td>1     </td> <td>1     </td> <td>0     </td> <td>84  </td> <td>0     </td>\n",
       "        </tr>\n",
       "        <tr>\n",
       "            <td>1        </td> <td>1      </td> <td>1     </td> <td>1     </td> <td>0     </td> <td>78  </td> <td>1     </td>\n",
       "        </tr>\n",
       "        <tr>\n",
       "            <td>1        </td> <td>1      </td> <td>1     </td> <td>1     </td> <td>0     </td> <td>73  </td> <td>0     </td>\n",
       "        </tr>\n",
       "        <tr>\n",
       "            <td>1        </td> <td>1      </td> <td>1     </td> <td>1     </td> <td>0     </td> <td>87  </td> <td>1     </td>\n",
       "        </tr>\n",
       "        <tr>\n",
       "            <td>1        </td> <td>1      </td> <td>1     </td> <td>1     </td> <td>0     </td> <td>60  </td> <td>1     </td>\n",
       "        </tr>\n",
       "    </tbody>\n",
       "</table>\n",
       "<p>... (350 rows omitted)</p>"
      ],
      "text/plain": [
       "treatment | contact | vote02 | vote98 | newreg | age  | female\n",
       "1         | 1       | 0      | 1      | 0      | 68   | 1\n",
       "1         | 1       | 1      | 1      | 0      | 44   | 0\n",
       "1         | 1       | 1      | 1      | 0      | 43   | 1\n",
       "1         | 1       | 1      | 1      | 0      | 83   | 0\n",
       "1         | 1       | 1      | 1      | 0      | 70   | 0\n",
       "1         | 1       | 1      | 1      | 0      | 84   | 0\n",
       "1         | 1       | 1      | 1      | 0      | 78   | 1\n",
       "1         | 1       | 1      | 1      | 0      | 73   | 0\n",
       "1         | 1       | 1      | 1      | 0      | 87   | 1\n",
       "1         | 1       | 1      | 1      | 0      | 60   | 1\n",
       "... (350 rows omitted)"
      ]
     },
     "execution_count": 5,
     "metadata": {},
     "output_type": "execute_result"
    }
   ],
   "source": [
    "#defines separate tables for contacted and non-contacted\n",
    "contacted = data.where('contact', 1)\n",
    "noncontacted = data.where('contact', 0)\n",
    "\n",
    "contacted"
   ]
  },
  {
   "cell_type": "markdown",
   "metadata": {},
   "source": [
    "Next we'll calculate the turnout for each group of voters."
   ]
  },
  {
   "cell_type": "code",
   "execution_count": 6,
   "metadata": {},
   "outputs": [
    {
     "name": "stdout",
     "output_type": "stream",
     "text": [
      "2002 Election Turnout Rate, Contacted Voters: 70.83333333333334\n",
      "2002 Election Turnout Rate, Non-Contacted Voters: 57.70591207680646\n"
     ]
    }
   ],
   "source": [
    "vote02_contacted = 100*np.mean(contacted.column('vote02'))\n",
    "vote02_noncontacted = 100*np.mean(noncontacted.column('vote02'))\n",
    "\n",
    "print('2002 Election Turnout Rate, Contacted Voters:', vote02_contacted)\n",
    "print('2002 Election Turnout Rate, Non-Contacted Voters:', vote02_noncontacted)"
   ]
  },
  {
   "cell_type": "markdown",
   "metadata": {},
   "source": [
    "Finally let's plot the results in a bar plot."
   ]
  },
  {
   "cell_type": "code",
   "execution_count": 7,
   "metadata": {},
   "outputs": [
    {
     "data": {
      "image/png": "[encoded data removed]",
      "text/plain": [
       "<Figure size 432x288 with 1 Axes>"
      ]
     },
     "metadata": {},
     "output_type": "display_data"
    }
   ],
   "source": [
    "turnout_rates = Table().with_columns('group', ['contacted', 'non-contacted'],\n",
    "                                       '2002 Turnout Rate (%)', [vote02_contacted, vote02_noncontacted])\n",
    "turnout_rates.barh('group')"
   ]
  },
  {
   "cell_type": "markdown",
   "metadata": {},
   "source": [
    "Indeed, contacted voters have a 15-16 percentage point higher turnout in the 2002 election.\n",
    "\n",
    "Does this difference reflect the causal effect of receiving a call? It might. But it might not if contacted and not contacted voters are different in ways other than whether they received a call.\n",
    "\n",
    "As a starting point, let's compare the age distributions for the two groups of voters."
   ]
  },
  {
   "cell_type": "code",
   "execution_count": 8,
   "metadata": {},
   "outputs": [
    {
     "data": {
      "image/png": "[encoded data removed]",
      "text/plain": [
       "<Figure size 432x288 with 1 Axes>"
      ]
     },
     "metadata": {},
     "output_type": "display_data"
    }
   ],
   "source": [
    "data.hist('age', group = 'contact', bins = 20)"
   ]
  },
  {
   "cell_type": "markdown",
   "metadata": {},
   "source": [
    "**Q1.2:** Why might the chart above suggest that simply comparing contacted and non-contacted voters will lead to a *biased* estimate for the average causal effect of receiving a call?"
   ]
  },
  {
   "cell_type": "markdown",
   "metadata": {},
   "source": [
    "*#Write your answer here*"
   ]
  },
  {
   "cell_type": "markdown",
   "metadata": {},
   "source": [
    "----\n",
    "\n",
    "## Section 2: Matching on a Single Covariate <a id='single'></a>\n",
    "\n",
    "To account for these differences in age across the two voter populations, let's try to *'control for'* age via matching. That is, for each contacted voter, we'll find a non-contacted voter with the same age, and use the set of matched non-contacted voters as our comparison group.\n",
    "\n",
    "First let's assign ID's to people in the control group. It will soon become clear why we're doing this."
   ]
  },
  {
   "cell_type": "code",
   "execution_count": 9,
   "metadata": {},
   "outputs": [
    {
     "data": {
      "text/html": [
       "<table border=\"1\" class=\"dataframe\">\n",
       "    <thead>\n",
       "        <tr>\n",
       "            <th>treatment</th> <th>contact</th> <th>vote02</th> <th>vote98</th> <th>newreg</th> <th>age</th> <th>female</th> <th>id</th>\n",
       "        </tr>\n",
       "    </thead>\n",
       "    <tbody>\n",
       "        <tr>\n",
       "            <td>0        </td> <td>0      </td> <td>0     </td> <td>0     </td> <td>0     </td> <td>45  </td> <td>0     </td> <td>0   </td>\n",
       "        </tr>\n",
       "        <tr>\n",
       "            <td>0        </td> <td>0      </td> <td>1     </td> <td>0     </td> <td>0     </td> <td>48  </td> <td>1     </td> <td>1   </td>\n",
       "        </tr>\n",
       "        <tr>\n",
       "            <td>0        </td> <td>0      </td> <td>1     </td> <td>0     </td> <td>0     </td> <td>38  </td> <td>0     </td> <td>2   </td>\n",
       "        </tr>\n",
       "        <tr>\n",
       "            <td>0        </td> <td>0      </td> <td>0     </td> <td>0     </td> <td>0     </td> <td>33  </td> <td>0     </td> <td>3   </td>\n",
       "        </tr>\n",
       "        <tr>\n",
       "            <td>0        </td> <td>0      </td> <td>1     </td> <td>1     </td> <td>0     </td> <td>44  </td> <td>1     </td> <td>4   </td>\n",
       "        </tr>\n",
       "    </tbody>\n",
       "</table>\n",
       "<p>... (21764 rows omitted)</p>"
      ],
      "text/plain": [
       "<IPython.core.display.HTML object>"
      ]
     },
     "metadata": {},
     "output_type": "display_data"
    }
   ],
   "source": [
    "#add ID column\n",
    "noncontacted = noncontacted.with_column('id', np.arange(noncontacted.num_rows))\n",
    "noncontacted.show(5)"
   ]
  },
  {
   "cell_type": "markdown",
   "metadata": {},
   "source": [
    "**Q2.1:** Write a function that takes in an `age` value and returns the ID of a randomly chosen non-contacted adult with the given age."
   ]
  },
  {
   "cell_type": "code",
   "execution_count": 10,
   "metadata": {},
   "outputs": [],
   "source": [
    "#write your code here\n",
    "def match_age_id(age_value):\n",
    "    matching_table = noncontacted.where('age', age_value)\n",
    "    if(matching_table.num_rows >= 1):\n",
    "        return matching_table.sample(1).column('id').item(0)\n",
    "    else:\n",
    "        return None"
   ]
  },
  {
   "cell_type": "markdown",
   "metadata": {},
   "source": [
    "**Q2.2:** Let's test the function you've written. Find an age match for the first row in the `contacted` table."
   ]
  },
  {
   "cell_type": "code",
   "execution_count": 11,
   "metadata": {},
   "outputs": [
    {
     "data": {
      "text/html": [
       "<table border=\"1\" class=\"dataframe\">\n",
       "    <thead>\n",
       "        <tr>\n",
       "            <th>treatment</th> <th>contact</th> <th>vote02</th> <th>vote98</th> <th>newreg</th> <th>age</th> <th>female</th>\n",
       "        </tr>\n",
       "    </thead>\n",
       "    <tbody>\n",
       "        <tr>\n",
       "            <td>1        </td> <td>1      </td> <td>0     </td> <td>1     </td> <td>0     </td> <td>68  </td> <td>1     </td>\n",
       "        </tr>\n",
       "    </tbody>\n",
       "</table>"
      ],
      "text/plain": [
       "treatment | contact | vote02 | vote98 | newreg | age  | female\n",
       "1         | 1       | 0      | 1      | 0      | 68   | 1"
      ]
     },
     "execution_count": 11,
     "metadata": {},
     "output_type": "execute_result"
    }
   ],
   "source": [
    "#run this cell to observe first row from `contacted` table\n",
    "contacted.take(0)"
   ]
  },
  {
   "cell_type": "code",
   "execution_count": 12,
   "metadata": {},
   "outputs": [
    {
     "data": {
      "text/plain": [
       "4255"
      ]
     },
     "execution_count": 12,
     "metadata": {},
     "output_type": "execute_result"
    }
   ],
   "source": [
    "#run your function\n",
    "match_age_id(54)"
   ]
  },
  {
   "cell_type": "code",
   "execution_count": 13,
   "metadata": {},
   "outputs": [
    {
     "data": {
      "text/html": [
       "<table border=\"1\" class=\"dataframe\">\n",
       "    <thead>\n",
       "        <tr>\n",
       "            <th>treatment</th> <th>contact</th> <th>vote02</th> <th>vote98</th> <th>newreg</th> <th>age</th> <th>female</th> <th>id</th>\n",
       "        </tr>\n",
       "    </thead>\n",
       "    <tbody>\n",
       "    </tbody>\n",
       "</table>"
      ],
      "text/plain": [
       "treatment | contact | vote02 | vote98 | newreg | age  | female | id"
      ]
     },
     "execution_count": 13,
     "metadata": {},
     "output_type": "execute_result"
    }
   ],
   "source": [
    "#confirm your match has the same age\n",
    "noncontacted.where('id', 29102)"
   ]
  },
  {
   "cell_type": "markdown",
   "metadata": {},
   "source": [
    "**Q2.3:** How many potential age matches could you have chosen?"
   ]
  },
  {
   "cell_type": "code",
   "execution_count": 14,
   "metadata": {},
   "outputs": [
    {
     "data": {
      "text/plain": [
       "417"
      ]
     },
     "execution_count": 14,
     "metadata": {},
     "output_type": "execute_result"
    }
   ],
   "source": [
    "#write code here\n",
    "noncontacted.where('age', 49).num_rows"
   ]
  },
  {
   "cell_type": "markdown",
   "metadata": {},
   "source": [
    "**Q2.4** Use your function `match_age_id` to create a table of non-matched voters (called `noncontacted_age_matches`) that corresponds to the matches for each row in the `contacted` table. (Hint: remember .take). **The code may take a couple minutes to run**, so feel free to answer the next question (**Q2.5**) while the notebook executes the code."
   ]
  },
  {
   "cell_type": "code",
   "execution_count": 15,
   "metadata": {},
   "outputs": [
    {
     "data": {
      "text/html": [
       "<table border=\"1\" class=\"dataframe\">\n",
       "    <thead>\n",
       "        <tr>\n",
       "            <th>treatment</th> <th>contact</th> <th>vote02</th> <th>vote98</th> <th>newreg</th> <th>age</th> <th>female</th> <th>id</th>\n",
       "        </tr>\n",
       "    </thead>\n",
       "    <tbody>\n",
       "        <tr>\n",
       "            <td>0        </td> <td>0      </td> <td>0     </td> <td>1     </td> <td>0     </td> <td>68  </td> <td>0     </td> <td>3158 </td>\n",
       "        </tr>\n",
       "        <tr>\n",
       "            <td>0        </td> <td>0      </td> <td>0     </td> <td>0     </td> <td>1     </td> <td>44  </td> <td>0     </td> <td>20194</td>\n",
       "        </tr>\n",
       "        <tr>\n",
       "            <td>0        </td> <td>0      </td> <td>1     </td> <td>0     </td> <td>0     </td> <td>43  </td> <td>0     </td> <td>9653 </td>\n",
       "        </tr>\n",
       "        <tr>\n",
       "            <td>0        </td> <td>0      </td> <td>0     </td> <td>0     </td> <td>0     </td> <td>83  </td> <td>1     </td> <td>6059 </td>\n",
       "        </tr>\n",
       "        <tr>\n",
       "            <td>0        </td> <td>0      </td> <td>1     </td> <td>0     </td> <td>0     </td> <td>70  </td> <td>0     </td> <td>17947</td>\n",
       "        </tr>\n",
       "        <tr>\n",
       "            <td>0        </td> <td>0      </td> <td>1     </td> <td>0     </td> <td>0     </td> <td>84  </td> <td>1     </td> <td>5469 </td>\n",
       "        </tr>\n",
       "        <tr>\n",
       "            <td>0        </td> <td>0      </td> <td>1     </td> <td>0     </td> <td>0     </td> <td>78  </td> <td>1     </td> <td>9328 </td>\n",
       "        </tr>\n",
       "        <tr>\n",
       "            <td>0        </td> <td>0      </td> <td>1     </td> <td>0     </td> <td>0     </td> <td>73  </td> <td>0     </td> <td>1670 </td>\n",
       "        </tr>\n",
       "        <tr>\n",
       "            <td>0        </td> <td>0      </td> <td>1     </td> <td>0     </td> <td>0     </td> <td>87  </td> <td>1     </td> <td>17929</td>\n",
       "        </tr>\n",
       "        <tr>\n",
       "            <td>0        </td> <td>0      </td> <td>1     </td> <td>0     </td> <td>0     </td> <td>60  </td> <td>1     </td> <td>11905</td>\n",
       "        </tr>\n",
       "    </tbody>\n",
       "</table>\n",
       "<p>... (350 rows omitted)</p>"
      ],
      "text/plain": [
       "<IPython.core.display.HTML object>"
      ]
     },
     "metadata": {},
     "output_type": "display_data"
    }
   ],
   "source": [
    "#use .apply get array of matched noncontacted voters\n",
    "match_indices = contacted.apply(match_age_id, 'age')\n",
    "\n",
    "#use .take and `match_indices` to get a table of matched noncontacted voters\n",
    "noncontacted_age_matches = noncontacted.take(match_indices)\n",
    "noncontacted_age_matches.show(10)\n"
   ]
  },
  {
   "cell_type": "code",
   "execution_count": 16,
   "metadata": {},
   "outputs": [
    {
     "name": "stdout",
     "output_type": "stream",
     "text": [
      "~~~~~~~~~~~~~~~~~~~~~~~~~~~~~~~~~~~~~~~~~~~~~~~~~~~~~~~~~~~~~~~~~~~~~\n",
      "Running tests\n",
      "\n",
      "---------------------------------------------------------------------\n",
      "Test summary\n",
      "    Passed: 3\n",
      "    Failed: 0\n",
      "[ooooooooook] 100.0% passed\n",
      "\n"
     ]
    }
   ],
   "source": [
    "_ = ok.grade(\"q2_4\")"
   ]
  },
  {
   "cell_type": "markdown",
   "metadata": {},
   "source": [
    "**Q2.5:** For your matching function, what is the downside of selecting *one random row* for matching? How could we utilize data from all matched rows?"
   ]
  },
  {
   "cell_type": "markdown",
   "metadata": {},
   "source": [
    "*#write answer here*"
   ]
  },
  {
   "cell_type": "markdown",
   "metadata": {},
   "source": [
    "**Q2.6:** Compare the age distributions of `contacted` voters to *matched* `noncontacted` voters. What do you notice?"
   ]
  },
  {
   "cell_type": "code",
   "execution_count": 17,
   "metadata": {},
   "outputs": [
    {
     "data": {
      "image/png": "[encoded data removed]",
      "text/plain": [
       "<Figure size 432x288 with 1 Axes>"
      ]
     },
     "metadata": {},
     "output_type": "display_data"
    }
   ],
   "source": [
    "#plot histogram for `contacted` voters\n",
    "contacted.hist('age', bins = 20)"
   ]
  },
  {
   "cell_type": "code",
   "execution_count": 18,
   "metadata": {},
   "outputs": [
    {
     "data": {
      "image/png": "[encoded data removed]",
      "text/plain": [
       "<Figure size 432x288 with 1 Axes>"
      ]
     },
     "metadata": {},
     "output_type": "display_data"
    }
   ],
   "source": [
    "#plot histogram for `noncontacted_age_matches` voters\n",
    "noncontacted_age_matches.hist('age', bins = 20)"
   ]
  },
  {
   "cell_type": "markdown",
   "metadata": {},
   "source": [
    "*#What do you notice?*"
   ]
  },
  {
   "cell_type": "markdown",
   "metadata": {},
   "source": [
    "We have controlled for age via matching. Let's see how this changes our estimate for the effect of receiving a Vote 2002 call on turnout. We'll compare 2002 turnout rates for our three groups of voters. [*Note that because your matching procedure has a random component, your results will not match you neighbors exactly.*]"
   ]
  },
  {
   "cell_type": "code",
   "execution_count": 19,
   "metadata": {},
   "outputs": [
    {
     "name": "stdout",
     "output_type": "stream",
     "text": [
      "2002 Election Turnout Rate, Contacted Voters: 70.83333333333334\n",
      "2002 Election Turnout Rate, Non-Contacted Voters: 57.70591207680646\n",
      "2002 Election Turnout Rate, Age Matched Non-Contacted Voters: 67.5\n"
     ]
    }
   ],
   "source": [
    "#same as above, just adding turnout rate for noncontacted matches (matched on age)\n",
    "vote02_contacted = 100*np.mean(contacted.column('vote02'))\n",
    "vote02_noncontacted = 100*np.mean(noncontacted.column('vote02'))\n",
    "vote02_noncontacted_age_matches = 100*np.mean(noncontacted_age_matches.column('vote02'))\n",
    "\n",
    "print('2002 Election Turnout Rate, Contacted Voters:', vote02_contacted)\n",
    "print('2002 Election Turnout Rate, Non-Contacted Voters:', vote02_noncontacted)\n",
    "print('2002 Election Turnout Rate, Age Matched Non-Contacted Voters:', vote02_noncontacted_age_matches)"
   ]
  },
  {
   "cell_type": "code",
   "execution_count": 20,
   "metadata": {},
   "outputs": [
    {
     "data": {
      "image/png": "[encoded data removed]",
      "text/plain": [
       "<Figure size 432x288 with 1 Axes>"
      ]
     },
     "metadata": {},
     "output_type": "display_data"
    }
   ],
   "source": [
    "turnout_rates = Table().with_columns('group', ['contacted', 'non-contacted', 'non-contacted matches'],\n",
    "                                       '2002 Turnout Rate (%)', [vote02_contacted, vote02_noncontacted, vote02_noncontacted_age_matches])\n",
    "turnout_rates.barh('group')"
   ]
  },
  {
   "cell_type": "markdown",
   "metadata": {},
   "source": [
    "**Q2.7:** How do the matched (on age) non-contacted voters compare?"
   ]
  },
  {
   "cell_type": "markdown",
   "metadata": {},
   "source": [
    "*#write your answer here*"
   ]
  },
  {
   "cell_type": "markdown",
   "metadata": {},
   "source": [
    "We've controlled for age, but what about the other covariates available to us? How do they compare across our three groups? Let's examine `vote98`, and indicator for whether the voter voted in the 1998 congressional election.\n",
    "\n",
    "**Q2.8:** Adopting the code from the two code cells above, compare the *1998* turnout rates for our three groups. "
   ]
  },
  {
   "cell_type": "code",
   "execution_count": 21,
   "metadata": {},
   "outputs": [
    {
     "name": "stdout",
     "output_type": "stream",
     "text": [
      "1998 Election Turnout Rate, Contacted Voters: 30.0\n",
      "1998 Election Turnout Rate, Non-Contacted Voters: 25.384721392806288\n",
      "1998 Election Turnout Rate, Age Matched Non-Contacted Voters 29.166666666666668\n"
     ]
    }
   ],
   "source": [
    "#print 1998 turnout rates for three groups\n",
    "vote98_contacted = 100*np.mean(contacted.column('vote98'))\n",
    "vote98_noncontacted = 100*np.mean(noncontacted.column('vote98'))\n",
    "vote98_noncontacted_age_matches = 100*np.mean(noncontacted_age_matches.column('vote98'))\n",
    "\n",
    "print('1998 Election Turnout Rate, Contacted Voters:', vote98_contacted)\n",
    "print('1998 Election Turnout Rate, Non-Contacted Voters:', vote98_noncontacted)\n",
    "print('1998 Election Turnout Rate, Age Matched Non-Contacted Voters', vote98_noncontacted_age_matches)"
   ]
  },
  {
   "cell_type": "code",
   "execution_count": 22,
   "metadata": {},
   "outputs": [
    {
     "data": {
      "image/png": "[encoded data removed]",
      "text/plain": [
       "<Figure size 432x288 with 1 Axes>"
      ]
     },
     "metadata": {},
     "output_type": "display_data"
    }
   ],
   "source": [
    "#make bar plot here\n",
    "turnout_rates = Table().with_columns('group', ['contacted', 'non-contacted', 'non-contacted matches'],\n",
    "                                       '1998 Turnout Rate (%)', [vote98_contacted, vote98_noncontacted, vote98_noncontacted_age_matches])\n",
    "turnout_rates.barh('group')"
   ]
  },
  {
   "cell_type": "markdown",
   "metadata": {},
   "source": [
    "**Q2.9:** How do these turnout rates compare? Are our non-contacted matches a good comparison group? (Remember that 1998 turnout is a *covariate* in this context, not our outcome of interest.)"
   ]
  },
  {
   "cell_type": "markdown",
   "metadata": {},
   "source": [
    "*#write answer here*"
   ]
  },
  {
   "cell_type": "markdown",
   "metadata": {},
   "source": [
    "## Section 3: Matching on a Set of Covariates <a id='set'></a>\n",
    "\n",
    "Matching on `age` alone produces a comparison group that is still unbalanced on some dimensions. Let's try matching on all the covariates available to us.\n",
    "\n",
    "**Q3.1:** Extend the function you wrote in **Q2.1** to match on four covariates: `age`, `newreg`, `female`, and `vote98`.\n",
    "\n",
    "The function should take as input a value for each covariate and returns the ID of a randomly chosen non-contacted adult with the same values for those covariates."
   ]
  },
  {
   "cell_type": "code",
   "execution_count": 23,
   "metadata": {},
   "outputs": [],
   "source": [
    "#write your code here\n",
    "def match_full_id(age_value, newreg_value, female_value, vote98_value):\n",
    "    matching_table = noncontacted.where('age', age_value).where('newreg', newreg_value).where('female', female_value).where('vote98', vote98_value)\n",
    "    if(matching_table.num_rows >= 1):\n",
    "        return matching_table.sample(1).column('id').item(0)\n",
    "    else:\n",
    "        return None"
   ]
  },
  {
   "cell_type": "markdown",
   "metadata": {},
   "source": [
    "**Q3.2:** As we did before, let's test the new function you've written. Find a match for the first row in the `contacted` table."
   ]
  },
  {
   "cell_type": "code",
   "execution_count": 24,
   "metadata": {},
   "outputs": [
    {
     "data": {
      "text/html": [
       "<table border=\"1\" class=\"dataframe\">\n",
       "    <thead>\n",
       "        <tr>\n",
       "            <th>treatment</th> <th>contact</th> <th>vote02</th> <th>vote98</th> <th>newreg</th> <th>age</th> <th>female</th>\n",
       "        </tr>\n",
       "    </thead>\n",
       "    <tbody>\n",
       "        <tr>\n",
       "            <td>1        </td> <td>1      </td> <td>0     </td> <td>1     </td> <td>0     </td> <td>68  </td> <td>1     </td>\n",
       "        </tr>\n",
       "    </tbody>\n",
       "</table>"
      ],
      "text/plain": [
       "treatment | contact | vote02 | vote98 | newreg | age  | female\n",
       "1         | 1       | 0      | 1      | 0      | 68   | 1"
      ]
     },
     "execution_count": 24,
     "metadata": {},
     "output_type": "execute_result"
    }
   ],
   "source": [
    "contacted.take(0)"
   ]
  },
  {
   "cell_type": "code",
   "execution_count": 25,
   "metadata": {},
   "outputs": [
    {
     "data": {
      "text/plain": [
       "7209"
      ]
     },
     "execution_count": 25,
     "metadata": {},
     "output_type": "execute_result"
    }
   ],
   "source": [
    "#run your function\n",
    "match_full_id(49, 0, 0, 0)"
   ]
  },
  {
   "cell_type": "code",
   "execution_count": 26,
   "metadata": {},
   "outputs": [
    {
     "data": {
      "text/html": [
       "<table border=\"1\" class=\"dataframe\">\n",
       "    <thead>\n",
       "        <tr>\n",
       "            <th>treatment</th> <th>contact</th> <th>vote02</th> <th>vote98</th> <th>newreg</th> <th>age</th> <th>female</th> <th>id</th>\n",
       "        </tr>\n",
       "    </thead>\n",
       "    <tbody>\n",
       "        <tr>\n",
       "            <td>1        </td> <td>0      </td> <td>1     </td> <td>1     </td> <td>0     </td> <td>79  </td> <td>1     </td> <td>3644</td>\n",
       "        </tr>\n",
       "    </tbody>\n",
       "</table>"
      ],
      "text/plain": [
       "treatment | contact | vote02 | vote98 | newreg | age  | female | id\n",
       "1         | 0       | 1      | 1      | 0      | 79   | 1      | 3644"
      ]
     },
     "execution_count": 26,
     "metadata": {},
     "output_type": "execute_result"
    }
   ],
   "source": [
    "#confirm your match has the same values for: `age`, `newreg`, `female`, and `vote98`\n",
    "noncontacted.where('id', 3644)"
   ]
  },
  {
   "cell_type": "markdown",
   "metadata": {},
   "source": [
    "**Q3.3:** As you did in **Q2.4**, Use `match_full_id` to create a table of non-matched voters (called `noncontacted_full_matches`) that corresponds to the matches for reach row in the `contacted` table. **The code may take a couple minutes to run.**"
   ]
  },
  {
   "cell_type": "code",
   "execution_count": 27,
   "metadata": {},
   "outputs": [
    {
     "data": {
      "text/html": [
       "<table border=\"1\" class=\"dataframe\">\n",
       "    <thead>\n",
       "        <tr>\n",
       "            <th>treatment</th> <th>contact</th> <th>vote02</th> <th>vote98</th> <th>newreg</th> <th>age</th> <th>female</th> <th>id</th>\n",
       "        </tr>\n",
       "    </thead>\n",
       "    <tbody>\n",
       "        <tr>\n",
       "            <td>0        </td> <td>0      </td> <td>1     </td> <td>1     </td> <td>0     </td> <td>68  </td> <td>1     </td> <td>11609</td>\n",
       "        </tr>\n",
       "        <tr>\n",
       "            <td>0        </td> <td>0      </td> <td>1     </td> <td>1     </td> <td>0     </td> <td>44  </td> <td>0     </td> <td>9696 </td>\n",
       "        </tr>\n",
       "        <tr>\n",
       "            <td>0        </td> <td>0      </td> <td>1     </td> <td>1     </td> <td>0     </td> <td>43  </td> <td>1     </td> <td>1932 </td>\n",
       "        </tr>\n",
       "        <tr>\n",
       "            <td>0        </td> <td>0      </td> <td>0     </td> <td>1     </td> <td>0     </td> <td>83  </td> <td>0     </td> <td>3881 </td>\n",
       "        </tr>\n",
       "        <tr>\n",
       "            <td>0        </td> <td>0      </td> <td>1     </td> <td>1     </td> <td>0     </td> <td>70  </td> <td>0     </td> <td>11957</td>\n",
       "        </tr>\n",
       "        <tr>\n",
       "            <td>0        </td> <td>0      </td> <td>1     </td> <td>1     </td> <td>0     </td> <td>84  </td> <td>0     </td> <td>3168 </td>\n",
       "        </tr>\n",
       "        <tr>\n",
       "            <td>0        </td> <td>0      </td> <td>1     </td> <td>1     </td> <td>0     </td> <td>78  </td> <td>1     </td> <td>10944</td>\n",
       "        </tr>\n",
       "        <tr>\n",
       "            <td>0        </td> <td>0      </td> <td>1     </td> <td>1     </td> <td>0     </td> <td>73  </td> <td>0     </td> <td>2073 </td>\n",
       "        </tr>\n",
       "        <tr>\n",
       "            <td>0        </td> <td>0      </td> <td>1     </td> <td>1     </td> <td>0     </td> <td>87  </td> <td>1     </td> <td>2822 </td>\n",
       "        </tr>\n",
       "        <tr>\n",
       "            <td>0        </td> <td>0      </td> <td>1     </td> <td>1     </td> <td>0     </td> <td>60  </td> <td>1     </td> <td>11452</td>\n",
       "        </tr>\n",
       "    </tbody>\n",
       "</table>\n",
       "<p>... (350 rows omitted)</p>"
      ],
      "text/plain": [
       "treatment | contact | vote02 | vote98 | newreg | age  | female | id\n",
       "0         | 0       | 1      | 1      | 0      | 68   | 1      | 11609\n",
       "0         | 0       | 1      | 1      | 0      | 44   | 0      | 9696\n",
       "0         | 0       | 1      | 1      | 0      | 43   | 1      | 1932\n",
       "0         | 0       | 0      | 1      | 0      | 83   | 0      | 3881\n",
       "0         | 0       | 1      | 1      | 0      | 70   | 0      | 11957\n",
       "0         | 0       | 1      | 1      | 0      | 84   | 0      | 3168\n",
       "0         | 0       | 1      | 1      | 0      | 78   | 1      | 10944\n",
       "0         | 0       | 1      | 1      | 0      | 73   | 0      | 2073\n",
       "0         | 0       | 1      | 1      | 0      | 87   | 1      | 2822\n",
       "0         | 0       | 1      | 1      | 0      | 60   | 1      | 11452\n",
       "... (350 rows omitted)"
      ]
     },
     "execution_count": 27,
     "metadata": {},
     "output_type": "execute_result"
    }
   ],
   "source": [
    "full_match_indices = contacted.apply(match_full_id, 'age', 'newreg', 'female', 'vote98')\n",
    "noncontacted_full_matches = noncontacted.take(full_match_indices)\n",
    "noncontacted_full_matches"
   ]
  },
  {
   "cell_type": "code",
   "execution_count": 28,
   "metadata": {},
   "outputs": [
    {
     "name": "stdout",
     "output_type": "stream",
     "text": [
      "~~~~~~~~~~~~~~~~~~~~~~~~~~~~~~~~~~~~~~~~~~~~~~~~~~~~~~~~~~~~~~~~~~~~~\n",
      "Running tests\n",
      "\n",
      "---------------------------------------------------------------------\n",
      "Test summary\n",
      "    Passed: 4\n",
      "    Failed: 0\n",
      "[ooooooooook] 100.0% passed\n",
      "\n"
     ]
    }
   ],
   "source": [
    "_ = ok.grade(\"q3_3\")"
   ]
  },
  {
   "cell_type": "markdown",
   "metadata": {},
   "source": [
    "**Q3.4:** Check for balance between `contacted` and matched `noncontacted` for *one* of these covariates: `newreg`, `female`, or `vote98`."
   ]
  },
  {
   "cell_type": "code",
   "execution_count": 29,
   "metadata": {},
   "outputs": [
    {
     "name": "stdout",
     "output_type": "stream",
     "text": [
      "1998 Election Turnout Rate, Contacted Voters: 30.0\n",
      "1998 Election Turnout Rate, Non-Contacted Voters: 25.384721392806288\n",
      "1998 Election Turnout Rate, Age Matched Non-Contacted Voters: 29.166666666666668\n",
      "1998 Election Turnout Rate, Fully Matched Non-Contacted Voters: 30.0\n"
     ]
    }
   ],
   "source": [
    "#print the mean of covariate for both groups\n",
    "vote98_contacted = 100*np.mean(contacted.column('vote98'))\n",
    "vote98_noncontacted = 100*np.mean(noncontacted.column('vote98'))\n",
    "vote98_noncontacted_age_matches = 100*np.mean(noncontacted_age_matches.column('vote98'))\n",
    "vote98_noncontacted_full_matches = 100*np.mean(noncontacted_full_matches.column('vote98'))\n",
    "\n",
    "print('1998 Election Turnout Rate, Contacted Voters:', vote98_contacted)\n",
    "print('1998 Election Turnout Rate, Non-Contacted Voters:', vote98_noncontacted)\n",
    "print('1998 Election Turnout Rate, Age Matched Non-Contacted Voters:', vote98_noncontacted_age_matches)\n",
    "print('1998 Election Turnout Rate, Fully Matched Non-Contacted Voters:', vote98_noncontacted_full_matches)"
   ]
  },
  {
   "cell_type": "markdown",
   "metadata": {},
   "source": [
    "Finally, let's look at how 2002 turnout rates look like in our new and improved matched comparison group."
   ]
  },
  {
   "cell_type": "code",
   "execution_count": 30,
   "metadata": {},
   "outputs": [
    {
     "name": "stdout",
     "output_type": "stream",
     "text": [
      "2002 Election Turnout Rate, Contacted Voters: 70.83333333333334\n",
      "2002 Election Turnout Rate, Non-Contacted Voters: 57.70591207680646\n",
      "2002 Election Turnout Rate, Age Matched Non-Contacted Adults: 67.5\n",
      "2002 Election Turnout Rate, Fully Matched Non-Contacted Adults: 60.55555555555555\n"
     ]
    }
   ],
   "source": [
    "vote02_contacted = 100*np.mean(contacted.column('vote02'))\n",
    "vote02_noncontacted = 100*np.mean(noncontacted.column('vote02'))\n",
    "vote02_noncontacted_age_matches = 100*np.mean(noncontacted_age_matches.column('vote02'))\n",
    "vote02_noncontacted_full_matches = 100*np.mean(noncontacted_full_matches.column('vote02'))\n",
    "\n",
    "print('2002 Election Turnout Rate, Contacted Voters:', vote02_contacted)\n",
    "print('2002 Election Turnout Rate, Non-Contacted Voters:', vote02_noncontacted)\n",
    "print('2002 Election Turnout Rate, Age Matched Non-Contacted Adults:', vote02_noncontacted_age_matches)\n",
    "print('2002 Election Turnout Rate, Fully Matched Non-Contacted Adults:', vote02_noncontacted_full_matches)"
   ]
  },
  {
   "cell_type": "code",
   "execution_count": 31,
   "metadata": {},
   "outputs": [
    {
     "data": {
      "image/png": "[encoded data removed]",
      "text/plain": [
       "<Figure size 432x288 with 1 Axes>"
      ]
     },
     "metadata": {},
     "output_type": "display_data"
    }
   ],
   "source": [
    "turnout_rates = Table().with_columns('group', ['contacted', 'non-contacted', 'non-contacted age matches', 'non-contacted full matches'],\n",
    "                                       '2002 Turnout Rate (%)', [vote02_contacted, vote02_noncontacted, vote02_noncontacted_age_matches, vote02_noncontacted_full_matches])\n",
    "turnout_rates.barh('group')"
   ]
  },
  {
   "cell_type": "markdown",
   "metadata": {},
   "source": [
    "**Q3.5:** Using our matched comparison group, what would we estimate for the causal effect of receiving a Vote 2002 call on turnout?"
   ]
  },
  {
   "cell_type": "markdown",
   "metadata": {},
   "source": [
    "*#write your answer here*"
   ]
  },
  {
   "cell_type": "markdown",
   "metadata": {},
   "source": [
    "Finally, we will test whether the difference in turnout rates between contacted voters and matched noncontacted voters that we measured above is *statistically significant*. As in the previous lab, we will use a *permutation test* to answer this question. We'll use the function `permuted_sample_average_difference`."
   ]
  },
  {
   "cell_type": "code",
   "execution_count": 32,
   "metadata": {},
   "outputs": [],
   "source": [
    "#Run this cell to define the function permuted_sample_average_difference \n",
    "def permuted_sample_average_difference(table, label, group_label, repetitions):\n",
    "\n",
    "    tbl = table.select(group_label, label)\n",
    "\n",
    "    differences = make_array()\n",
    "    for i in np.arange(repetitions):\n",
    "        shuffled = tbl.sample(with_replacement = False).column(1)\n",
    "        original_and_shuffled = tbl.with_column('Shuffled Data', shuffled)\n",
    "\n",
    "        shuffled_means = original_and_shuffled.group(group_label, np.average).column(2)\n",
    "        simulated_difference = shuffled_means.item(1) - shuffled_means.item(0)\n",
    "\n",
    "        differences = np.append(differences, simulated_difference)\n",
    "\n",
    "    return differences"
   ]
  },
  {
   "cell_type": "markdown",
   "metadata": {},
   "source": [
    "Run the cell below to conduct a permutation test. **This may take a couple minutes to run.**"
   ]
  },
  {
   "cell_type": "code",
   "execution_count": 33,
   "metadata": {},
   "outputs": [
    {
     "name": "stdout",
     "output_type": "stream",
     "text": [
      "estimated treatment effect = 10.277777777777786\n",
      "p_value = 0.0047\n"
     ]
    }
   ],
   "source": [
    "##run this cell to conduct permutation test\n",
    "\n",
    "#create table that combines `contacted` and `noncontated_full_matches`\n",
    "contact = np.concatenate((contacted.column('contact'), noncontacted_full_matches.column('contact')))\n",
    "vote02 = np.concatenate((contacted.column('vote02'), noncontacted_full_matches.column('vote02')))\n",
    "\n",
    "combined = Table().with_columns('contact', contact, 'vote02', vote02)\n",
    "\n",
    "#calculate different in 2002 voter turnout\n",
    "vote02_diff = combined.where('contact', 1).column('vote02').mean() - combined.where('contact', 0).column('vote02').mean()\n",
    "\n",
    "#assign array of simulated test statistics under null\n",
    "vote02_sim_diff = permuted_sample_average_difference(combined, 'vote02', 'contact', 10000)\n",
    "\n",
    "#assign p-value\n",
    "vote02_pvalue = np.count_nonzero(abs(vote02_sim_diff) >= abs(vote02_diff))/10000\n",
    "\n",
    "#print results\n",
    "print('estimated treatment effect =', 100*vote02_diff)\n",
    "print('p_value =', vote02_pvalue)\n"
   ]
  },
  {
   "cell_type": "markdown",
   "metadata": {},
   "source": [
    "**Q3.6:** Are you convinced that the Vote 2002 mobilization effor increased voter turnout? Why or why not?"
   ]
  },
  {
   "cell_type": "markdown",
   "metadata": {},
   "source": [
    "*#write your answer here*"
   ]
  },
  {
   "cell_type": "markdown",
   "metadata": {},
   "source": [
    "----\n",
    "Congratulations, you've finished Lab 4! To submit the lab, run the two cells below:"
   ]
  },
  {
   "cell_type": "code",
   "execution_count": 34,
   "metadata": {},
   "outputs": [
    {
     "name": "stdout",
     "output_type": "stream",
     "text": [
      "~~~~~~~~~~~~~~~~~~~~~~~~~~~~~~~~~~~~~~~~~~~~~~~~~~~~~~~~~~~~~~~~~~~~~\n",
      "Running tests\n",
      "\n",
      "---------------------------------------------------------------------\n",
      "Test summary\n",
      "    Passed: 3\n",
      "    Failed: 0\n",
      "[ooooooooook] 100.0% passed\n",
      "\n",
      "~~~~~~~~~~~~~~~~~~~~~~~~~~~~~~~~~~~~~~~~~~~~~~~~~~~~~~~~~~~~~~~~~~~~~\n",
      "Running tests\n",
      "\n",
      "---------------------------------------------------------------------\n",
      "Test summary\n",
      "    Passed: 4\n",
      "    Failed: 0\n",
      "[ooooooooook] 100.0% passed\n",
      "\n",
      "~~~~~~~~~~~~~~~~~~~~~~~~~~~~~~~~~~~~~~~~~~~~~~~~~~~~~~~~~~~~~~~~~~~~~\n",
      "Running tests\n",
      "\n",
      "---------------------------------------------------------------------\n",
      "Test summary\n",
      "    Passed: 1\n",
      "    Failed: 0\n",
      "[ooooooooook] 100.0% passed\n",
      "\n"
     ]
    }
   ],
   "source": [
    "# For your convenience, you can run this cell to run all the tests at once\n",
    "import os\n",
    "_ = [ok.grade(q[:-3]) for q in os.listdir(\"tests\") if q.startswith('q')]"
   ]
  },
  {
   "cell_type": "code",
   "execution_count": null,
   "metadata": {},
   "outputs": [
    {
     "data": {
      "application/javascript": [
       "IPython.notebook.save_checkpoint();"
      ],
      "text/plain": [
       "<IPython.core.display.Javascript object>"
      ]
     },
     "metadata": {},
     "output_type": "display_data"
    }
   ],
   "source": [
    "_ = ok.submit()"
   ]
  }
 ],
 "metadata": {
  "kernelspec": {
   "display_name": "Python 3",
   "language": "python",
   "name": "python3"
  },
  "language_info": {
   "codemirror_mode": {
    "name": "ipython",
    "version": 3
   },
   "file_extension": ".py",
   "mimetype": "text/x-python",
   "name": "python",
   "nbconvert_exporter": "python",
   "pygments_lexer": "ipython3",
   "version": "3.6.5"
  }
 },
 "nbformat": 4,
 "nbformat_minor": 2
}
