{
 "cells": [
  {
   "cell_type": "markdown",
   "metadata": {
    "#student": false
   },
   "source": [
    "## Problem Set 4\n",
    "### UGBA 96: Data and Decisions, Fall 2018"
   ]
  },
  {
   "cell_type": "code",
   "execution_count": null,
   "metadata": {
    "#student": false
   },
   "outputs": [],
   "source": [
    "from datascience import *\n",
    "%matplotlib inline\n",
    "import matplotlib.pyplot as plt\n",
    "plt.style.use('fivethirtyeight')\n",
    "import numpy as np\n",
    "import gsExport"
   ]
  },
  {
   "cell_type": "markdown",
   "metadata": {
    "#student": false
   },
   "source": [
    "Deadline: This assignment is due Monday, October 8th at noon (12pm). Late work will not be accepted.\n",
    "\n",
    "You will submit your solutions using both OKpy and Gradescope. You will find detailed submission instructions at the bottom of this notebook and on bCourses ([here](https://bcourses.berkeley.edu/files/73630077/download?download_frd=1)). **Please do not remove or add cells and please ignore the '#newpage' cells** (these are here to facilitate Gradescope submission).\n",
    "\n",
    "You should start early so that you have time to get help if you're stuck. Post questions on Piazza. Check the syllabus  for the office hours schedule. Remember that Connector Assistant office hours are for *coding questions only*."
   ]
  },
  {
   "cell_type": "markdown",
   "metadata": {
    "#student": false
   },
   "source": [
    "#newpage"
   ]
  },
  {
   "cell_type": "markdown",
   "metadata": {
    "#student": true
   },
   "source": [
    "## Question 1: Job Search Assistance"
   ]
  },
  {
   "cell_type": "markdown",
   "metadata": {
    "#student": false
   },
   "source": [
    "**(20 points)** In many industrialized countries, professional job counseling services are a popular tool for helping educated young people find stable jobs. By connecting employers with appropriately matched job seekers, counseling agencies are thought to improve the process of finding work and generate better matches between employers and employees.\n",
    "\n",
    "Crepon et al. (2013) study a large-scale, privately-run job seeker assistance program targeted at young, educated job seekers in France. Under the program, private agencies are contracted to provide intensive placement services to young graduates (with at least a two-year college degree) who have been unemployed for at least six months. To incentivize agency performance, private providers are paid a bonus if a job seeker they assist finds a job with a contract of at least six months and stays employed for at least six months.\n",
    "\n",
    "The researchers study the assistance program using a randomized experiment. The experiment covers about 30,000 job seekers in 235 cities. Job seekers typically look for jobs in the city they live in. Job seekers assigned to the treatment are offered the opportunity to enroll in the job placement program. Control job seekers still have access to the French public employment agency, which is thought to provide less intensive placement services. Existing evidence suggests that the private job placement program will improve the labor market outcomes of participants.\n",
    "\n",
    "The main outcome of interest is whether a job seeker has found a stable job after some period folowing their treatment assignment."
   ]
  },
  {
   "cell_type": "markdown",
   "metadata": {
    "#student": true
   },
   "source": [
    "**a. (4 points)** Suppose the **no interference** assumption is satisfied. Given the outcome and treatment described in the text, describe the following term in plain English:\n",
    "\n",
    "$$E[Y_{0i} | D_{i} = 1]$$"
   ]
  },
  {
   "cell_type": "markdown",
   "metadata": {
    "#student": true
   },
   "source": [
    "*Write answer here*"
   ]
  },
  {
   "cell_type": "markdown",
   "metadata": {
    "#student": true
   },
   "source": [
    "**b. (4 points)** How might interference undermine our analysis? In what direction would you expect spillovers to bias experiment results, and why? [Note: there is more than one `correct' answer to this question.]"
   ]
  },
  {
   "cell_type": "markdown",
   "metadata": {
    "#student": true
   },
   "source": [
    "*Write answer here*"
   ]
  },
  {
   "cell_type": "markdown",
   "metadata": {
    "#student": true
   },
   "source": [
    "**c. (4 points)** What randomization strategy could you use to account for spillovers? Why would this help, and how would you implement this strategy?"
   ]
  },
  {
   "cell_type": "markdown",
   "metadata": {
    "#student": true
   },
   "source": [
    "*Write answer here*"
   ]
  },
  {
   "cell_type": "markdown",
   "metadata": {
    "#student": true
   },
   "source": [
    "**d. (4 points)** How would you design the experiment to *measure* spillovers? In the experiment you propose, what comparison in the data would allow you to measure spillovers?"
   ]
  },
  {
   "cell_type": "markdown",
   "metadata": {
    "#student": true
   },
   "source": [
    "*Write answer here*"
   ]
  },
  {
   "cell_type": "markdown",
   "metadata": {
    "#student": true
   },
   "source": [
    "**e. (4 points)** The researchers measure the outcome of whether a job seeker has found a stable job using a survey. One concern is that the survey response rate is 70%, significantly below 100%. In particular, the researchers are concerned that job seekers who have *not* found a stable job will be less likely to respond to the survey.\n",
    "\n",
    "Why might this be an issue for the experiment analysis? In what direction would you expect this issue to bias the experiment results? Explain your reasoning."
   ]
  },
  {
   "cell_type": "markdown",
   "metadata": {
    "#student": true
   },
   "source": [
    "*Write answer here*"
   ]
  },
  {
   "cell_type": "markdown",
   "metadata": {
    "#student": false
   },
   "source": [
    "#newpage"
   ]
  },
  {
   "cell_type": "markdown",
   "metadata": {
    "#student": true
   },
   "source": [
    "## Question 2: Increasing Uber Driver Pay"
   ]
  },
  {
   "cell_type": "markdown",
   "metadata": {
    "#student": false
   },
   "source": [
    "**(10 points)** Uber is conducting a test to see how much increasing driver wages increases Uber's revenue. Increasing wages may *increase* revenue if doing so increases the amount of time Uber drivers spend working, reduces wait times faced by riders, and increases the number of trips completed. Alternatively, Uber's revenue may *decrease* if drivers drive less because they meet their income targets more quickly.\n",
    "\n",
    "To test whether increasing driver wages increases revenue, Uber conducts a randomized experiment over the course of one week. In the experiment, Uber randomly assigns all drivers to either the control or treatment group. Control group drivers receive payments as usual: a base payment per trip, and then additional pay per minute and per mile traveled on the trip. Treatment group drivers receive a 10% pay increase across the board. Prices faced by riders are unchanged.\n",
    "\n",
    "To evaluate the experiment, Uber compares average revenue collected per driver in the treatment and control groups. The results they find are encouraging: the treatment group drivers generate 5% higher revenue on average, which is more than enough to offset the increase in wage costs. Based on the results, the product manager in charge decides to launch the 10% pay increase to all drivers.\n",
    "\n",
    "Following the experiment, a data scientist at the company notices that following the launch of the experiment, the firm’s profits have actually **decreased**. Following the 10% pay raise for all drivers, there is a clear increase in wage costs, but no measurable increase in average revenue generated per driver."
   ]
  },
  {
   "cell_type": "markdown",
   "metadata": {
    "#student": true
   },
   "source": [
    "**a. (5 points)** How can this outcome be reconciled with the experiment results?"
   ]
  },
  {
   "cell_type": "markdown",
   "metadata": {
    "#student": true
   },
   "source": [
    "*Write answer here*"
   ]
  },
  {
   "cell_type": "markdown",
   "metadata": {
    "#student": true
   },
   "source": [
    "**b. (5 points)** How would you redesign the experiment to account for the problem you’ve identified above?"
   ]
  },
  {
   "cell_type": "markdown",
   "metadata": {
    "#student": true
   },
   "source": [
    "*Write answer here*"
   ]
  },
  {
   "cell_type": "markdown",
   "metadata": {
    "#student": false
   },
   "source": [
    "#newpage"
   ]
  },
  {
   "cell_type": "markdown",
   "metadata": {
    "#student": true
   },
   "source": [
    "## Question 3: Bounding Treatment Effects Under Attrition"
   ]
  },
  {
   "cell_type": "markdown",
   "metadata": {
    "#student": false
   },
   "source": [
    "**(20 points)** In Lab 2, we discovered an **attrition** problem in the Ctrip experiment. We wanted to measure the causal effect of Work From Home on worker productivity, and found that control group employees were more likely than treatment group employees to leave the company by the end of the experiment. This presents a problem because, while randomization guarantees that the treatment and control groups are comparable at the *beginning of the experiment*, attrition breaks this guarantee so that by the *end of the experiment* the treatment and control employees that remain may no longer be comparable.\n",
    "\n",
    "In this problem, we will apply the **trimming** method to estimating treatment effects in the presence of attrition. Under a few additional assumptions, trimming allows us to put bounds on the average treatment effect for a subset of the population. That is, we will be able to say this average treatment effect is no larger (more positive) than some **upper bound**, and no smaller (more negative) than some **lower bound**.\n",
    "\n",
    "The assumption we will make is that, for any given employee, the treatment can only *increase* the chances that an employee stays at the company. This assumption is untestable; while we know from Lab 2 that the treatment increases the chances than an employee stays at the company *on average*, we do not know whether this is true *for every employee individually*.\n",
    "\n",
    "Under this assumption, there are **three** types of employees that begin in the experiment: those that will stay at the company regardless of whether they are assigned to the treatment or control group (**'Always-Stayers'**); those that will leave the company regardless (**‘Always-Leavers’**); and those that will only stay at the company if they are assigned to the treatment group (**‘If-Treated-Stayers’**). \n",
    "\n",
    "By the way we’ve defined these groups, we know that the control group contains only Always-Stayers by the end of the experiment. That's because the Always-Leavers and If-Treated-Stayers have left the company. By contrast, the treatment group contains both Always-Stayers and If-Treated-Stayers by the end of the experiment. Attrition introduces bias because treatment versus control comparisons are no longer comparing like with like; in particular, the treatment group includes If-Treated-Stayers and the control group does not.\n",
    "\n",
    "The idea of trimming is that, if we can remove the If-Treated-Stayers from our treatment group, then only Always-Stayers remain in both the treatment and control groups. That would *solve* the attrition problem. Once we've removed the If-Treated-Stayers, the comparison of the treatment and control groups provides an estimate of the average treatment effect among Always-Stayers. *The problem is, we do not know which employee is an If-Treated-Stayer.* This is the fundamental problem of causal inference all over again; we know whether a treatment or control employee leaves the company or not, but we do not know what *would have happened* if they were assigned to the other group.\n",
    "\n",
    "However, we can calculate bounds on the average treatment effect for Always-Stayers by considering **best case** and **worst case**  scenarios for which treatment group employees are the If-Treated-Stayers. In the **best case** scenario, we assume the *least productive* treatment group employees that stay at the company are the If-Treated-Stayers. This is the best case because removing the lowest performers from the treatment group will *increase* average productivity in the (remaining) treatment group and hence make the treatment group look even better compared to the control group. Removing these employees from the treatment group and comparing the modified treatment group to the control group provides an **upper bound** on the average treatment effect for  Always-Stayers. For the **worst case** scenario, we assume the *most productive* treatment group employees that stay at the company are the If-Treated-Stayers, and remove them from the data. Comparing the modified treatment group to the control group provides a **lower bound** on the average treatment effect for  Always-Stayers.\n",
    "\n",
    "Run the cell below to read in the experiment data."
   ]
  },
  {
   "cell_type": "code",
   "execution_count": null,
   "metadata": {
    "#student": false
   },
   "outputs": [],
   "source": [
    "experiment = Table.read_table('wfh_exp_att.csv')\n",
    "experiment.show(5)"
   ]
  },
  {
   "cell_type": "markdown",
   "metadata": {
    "#student": false
   },
   "source": [
    "While the experiment data from the last problem set summarizes productivity over the full experiment, these data only cover the last 20 days of the experiment, after many employees have left the company. Employees that leave the company before this period are excluded from the data. `performance` is employee productivity measured over this period (as in PS3 and Lab 2)."
   ]
  },
  {
   "cell_type": "markdown",
   "metadata": {
    "#student": true
   },
   "source": [
    "**a. (4 points)** Calculate the difference in average `performance` between the treatment and control groups. Print your results."
   ]
  },
  {
   "cell_type": "code",
   "execution_count": null,
   "metadata": {
    "#student": true
   },
   "outputs": [],
   "source": [
    "#write code here"
   ]
  },
  {
   "cell_type": "markdown",
   "metadata": {
    "#student": false
   },
   "source": [
    "In the next question, you will estimate the number of employees in the treatment group that are If-Treated-Stayers. You will estimate this number by measuring the `excess' attrition we see in the control group relative to the treatment group. Let $n_{1}$ denote the number of treatment group employees at the beginning of the experiment, and $n_{1}^{\\text{end}}$ denote the number of treatment group employees that remain at the company by the end of the experiment. Let $n_{0}$ and $n_{0}^{\\text{end}}$ denote analogous numbers for the control group employees. The estimated  share of treatment group that are If-Treated-Stayers is given by\n",
    "\n",
    "$$ \\pi = \\frac{\\frac{n_{1}^{\\text{end}}}{n_{1}} - \\frac{n_{0}^{\\text{end}}}{n_{0}}}{n_{1}^{\\text{end}}/n_{1}}$$\n",
    "\n",
    "To get the estimated number of employees that are in the treatment group, multiply this share $\\pi$ by $n_{1}^{\\text{end}}$, the number of treatment group employees that remain at the company by the end of the experiment, and round the result to the nearest whole number.\n",
    "\n",
    "In this experiment, $n_{0} = 114$ and $n_{1} = 126$."
   ]
  },
  {
   "cell_type": "markdown",
   "metadata": {
    "#student": true
   },
   "source": [
    "**b. (4 points)** Estimate the number of employees in the treatment group that are If-Treated-Stayers. Print your output and write your rounded estimate."
   ]
  },
  {
   "cell_type": "code",
   "execution_count": null,
   "metadata": {
    "#student": true
   },
   "outputs": [],
   "source": [
    "#Write code here"
   ]
  },
  {
   "cell_type": "markdown",
   "metadata": {
    "#student": true
   },
   "source": [
    "*Write rounded answer here*"
   ]
  },
  {
   "cell_type": "markdown",
   "metadata": {
    "#student": true
   },
   "source": [
    "**c. (4 points)** Calculate the **upper bound** for the average treatment effect for Always-Stayers. First, remove the bottom $k$ least productive employees from the treatment group, where $k$ is your answer to **part (b)**. Then, calculate the difference in average performance between the modified treatment group and the control group. Make sure to print your results."
   ]
  },
  {
   "cell_type": "code",
   "execution_count": null,
   "metadata": {
    "#student": true
   },
   "outputs": [],
   "source": [
    "#write answer here"
   ]
  },
  {
   "cell_type": "markdown",
   "metadata": {
    "#student": true
   },
   "source": [
    "**d. (4 points)** Calculate the **lower bound** for the average treatment effect for Always-Stayers. Make sure to print your results."
   ]
  },
  {
   "cell_type": "code",
   "execution_count": null,
   "metadata": {
    "#student": true
   },
   "outputs": [],
   "source": [
    "#write answer here"
   ]
  },
  {
   "cell_type": "markdown",
   "metadata": {
    "#student": true
   },
   "source": [
    "**e. (4 points)** Given our findings in Lab 2, the researchers argue that the true average treatment effect for Always-Stayers is likely closer to the upper bound than the lower bound. Why?"
   ]
  },
  {
   "cell_type": "markdown",
   "metadata": {
    "#student": true
   },
   "source": [
    "*Write answer here*"
   ]
  },
  {
   "cell_type": "markdown",
   "metadata": {
    "#student": false
   },
   "source": [
    "#newpage"
   ]
  },
  {
   "cell_type": "markdown",
   "metadata": {
    "#student": true
   },
   "source": [
    "## Submission"
   ]
  },
  {
   "cell_type": "markdown",
   "metadata": {
    "#student": false
   },
   "source": [
    "Before submitting, please click \"Kernel\" above and click \"Restart & Run All\" to ensure all of your code is working as expected. This is important. Code that does not run cannot be graded. After confirming that all of your work looks and runs as you'd like it to, run **BOTH** of the below cells to submit your work. Failure to submit correctly may result in a 10% point penalty.\n",
    "\n",
    "First, make sure that the following runs successfully for submission to OkPy."
   ]
  },
  {
   "cell_type": "code",
   "execution_count": null,
   "metadata": {
    "#student": true
   },
   "outputs": [],
   "source": [
    "from client.api.notebook import Notebook\n",
    "ok = Notebook('pset4.ok')                \n",
    "_ = ok.auth(inline=True)\n",
    "_ = ok.submit()"
   ]
  },
  {
   "cell_type": "markdown",
   "metadata": {
    "#student": false
   },
   "source": [
    "Then, make sure that the following runs successfully to generate a PDF to upload to Gradescope. **Do not upload any other PDF to Gradescope other than the one generated by the below code.** If you have difficulty downloading the PDF, please see Piazza for troubleshooting steps."
   ]
  },
  {
   "cell_type": "code",
   "execution_count": null,
   "metadata": {
    "#student": true
   },
   "outputs": [],
   "source": [
    "gsExport.generateSubmission('pset4.ipynb')"
   ]
  },
  {
   "cell_type": "code",
   "execution_count": null,
   "metadata": {},
   "outputs": [],
   "source": []
  }
 ],
 "metadata": {
  "checksums": [
   "dd5b13ea8a5513528d9fba5f7a60ae56",
   "b3b0a6bec3590179f09133c5a9414f68",
   "fc5411fd1c7186985567b2659a994f89",
   "640061103a186fd26f59746dd4d6de57",
   "f44de54cc6ba2fb06a393b3fc2a002c4",
   "2144b9eeac87a1222d2a5a2574f496b0",
   "1164ba4037b2dd714fc4fb1d9a4e7b59",
   "dc6cbd7363440ca8e1f1e7a052a3f3f3",
   "6abc6059b27377fae9f866d63a9affae",
   "dc6cbd7363440ca8e1f1e7a052a3f3f3",
   "105184549cff1b2bd4d1f180809ebc33",
   "cdc79214158be1d70d158c176f862fe0",
   "51be21a56a24a0fb13830193f6418eef",
   "86a04f3337f3bb1479601b5f8774b878",
   "fce17b727265f31c6958aca824f39174",
   "dc6cbd7363440ca8e1f1e7a052a3f3f3",
   "640061103a186fd26f59746dd4d6de57",
   "6718f0738461d1b76d6470052ef0c42c",
   "df0c174407acc2aa18398c1496362c25",
   "6b28daffe5da0991fc43b14536bba2e7",
   "dc6cbd7363440ca8e1f1e7a052a3f3f3",
   "faec983d26cd84337bfcc7c123e6806a",
   "86a04f3337f3bb1479601b5f8774b878",
   "640061103a186fd26f59746dd4d6de57",
   "236a924e6abb1463ac6566d568c8e576",
   "d9903a18956729f99c159cf80041777e",
   "ccc815e945da15f11c69fb5909ee401f",
   "7d561bd9c41e7b80513478c7457810a8",
   "9d9718895365a8c55bf07a093d624b76",
   "b34df92515c8d9f037de2d2ed6e8eb41",
   "4a6a99ea4026d9e3a7b338cae6851013",
   "39721ad9fc951080eb981fbe7da58ddb",
   "92e602fede166dca65dd8b618a07fbff",
   "329e012a7c6c40e772bfe2ea442a0dc4",
   "c7ff608ffac9e18d70917d2a3cbd3244",
   "96ac26cb77c88f1d9d0884dd0efdb695",
   "f96d536dc20d214b7d4fca007a251fd4",
   "96ac26cb77c88f1d9d0884dd0efdb695",
   "aa1d98c93a113402e049091b02cf08d5",
   "dc6cbd7363440ca8e1f1e7a052a3f3f3",
   "640061103a186fd26f59746dd4d6de57",
   "facbfaf02205d9939fc553c09d23c3cf",
   "e713617095b3d10c9b3101a8384f8f52",
   "29e9cc4610f04f88c79ff36ee699fdb0",
   "1c5f11927dfd193b98c9eea79df1a4cd",
   "a92b0edb94f0a3cac6ced20b71169a88"
  ],
  "kernelspec": {
   "display_name": "Python 3",
   "language": "python",
   "name": "python3"
  },
  "language_info": {
   "codemirror_mode": {
    "name": "ipython",
    "version": 3
   },
   "file_extension": ".py",
   "mimetype": "text/x-python",
   "name": "python",
   "nbconvert_exporter": "python",
   "pygments_lexer": "ipython3",
   "version": "3.6.5"
  },
  "number_of_pagebreaks": 5
 },
 "nbformat": 4,
 "nbformat_minor": 2
}
