{
 "cells": [
  {
   "cell_type": "markdown",
   "metadata": {},
   "source": [
    "## Lab 5\n",
    "### UGBA 96: Data and Decisions, Fall 2018\n",
    "\n",
    "<br>\n",
    "\n",
    "This lab is designed to be completed in class. However, in case you need additional time, this assignment is due **Tuesday, October 30th at 11:59pm**.\n",
    "\n",
    "The lab will be graded for **completion**. Lab office hours are held by Connector Assistants on Tuesdays after labs from 1-3pm in the DS Nexus in Moffitt.\n",
    "\n",
    "## The Labor Market Returns to Attending a Private College\n",
    "\n",
    "In this lab you will study a causal question introduced in the text: what is the causal effect of attending a private college (versus a public college) on future income?\n",
    "\n",
    "In this lab you will apply **matching** and get practice thinking through **omitted variable bias**.\n",
    "\n",
    "---\n",
    "\n",
    "**Dependencies:**"
   ]
  },
  {
   "cell_type": "code",
   "execution_count": 1,
   "metadata": {},
   "outputs": [],
   "source": [
    "from datascience import *\n",
    "import numpy as np\n",
    "import pandas as pd\n",
    "\n",
    "#These lines set up graphing capabilities.\n",
    "import matplotlib.pyplot as plt\n",
    "%matplotlib inline\n",
    "plt.style.use('fivethirtyeight')\n",
    "\n",
    "from client.api.notebook import Notebook\n",
    "ok = Notebook('lab5.ok')\n",
    "_ = ok.auth(inline=True) "
   ]
  },
  {
   "cell_type": "markdown",
   "metadata": {},
   "source": [
    "### The Data\n",
    "\n",
    "For this lab you will use data from the widely-studied National Longitudinal Study of Youth, 1997 cohort. This survey consists of a nationally representative sample of approximately 9,000 youths who were 12 to 16 years old as of December 31, 1996. The survey is longitudinal, meaning the same survey participants are surveyed repeatedly over time. In this case, participants are interviewed once every 1-2 years since 1997. We will study a subset of those survey participants that: (1) went to college; (2) were working for pay in 2013; (3) had parents that reported their income in the original 1997 survey. In total, there are **2327** participants in the data we'll study here.\n",
    "\n",
    "**Run the cell below to read in the survey data.**"
   ]
  },
  {
   "cell_type": "code",
   "execution_count": 2,
   "metadata": {},
   "outputs": [
    {
     "data": {
      "text/html": [
       "<table border=\"1\" class=\"dataframe\">\n",
       "    <thead>\n",
       "        <tr>\n",
       "            <th>income</th> <th>private</th> <th>parental_income</th> <th>test_decile</th>\n",
       "        </tr>\n",
       "    </thead>\n",
       "    <tbody>\n",
       "        <tr>\n",
       "            <td>29000 </td> <td>0      </td> <td>11700          </td> <td>3          </td>\n",
       "        </tr>\n",
       "        <tr>\n",
       "            <td>33000 </td> <td>0      </td> <td>25000          </td> <td>3          </td>\n",
       "        </tr>\n",
       "        <tr>\n",
       "            <td>40000 </td> <td>1      </td> <td>13000          </td> <td>1          </td>\n",
       "        </tr>\n",
       "        <tr>\n",
       "            <td>20000 </td> <td>0      </td> <td>40500          </td> <td>5          </td>\n",
       "        </tr>\n",
       "        <tr>\n",
       "            <td>50000 </td> <td>0      </td> <td>47500          </td> <td>8          </td>\n",
       "        </tr>\n",
       "    </tbody>\n",
       "</table>\n",
       "<p>... (2322 rows omitted)</p>"
      ],
      "text/plain": [
       "<IPython.core.display.HTML object>"
      ]
     },
     "metadata": {},
     "output_type": "display_data"
    }
   ],
   "source": [
    "incomes = Table.read_table('private_public.csv')\n",
    "incomes.show(5)"
   ]
  },
  {
   "cell_type": "markdown",
   "metadata": {},
   "source": [
    "Below we describe how each column is defined. Each column represents survey participant. \n",
    "\n",
    "* `income`: the income earned by the participant in 2013.\n",
    "* `private`: an indicator for whether the participant attended a private college (`private` = 0 indicates that the participant attended a public college).\n",
    "* `parental_income`: the participants parents' income in 1997, when the participant was 12-17 years old.\n",
    "* `test_decile`: the test score decile (1 is bottom 10% scores, 10 is top 10% of scores) for the participant. Participants take this test in 1997 or 1998, generally prior to attending college. You can think of this test as being equivalent to the SAT."
   ]
  },
  {
   "cell_type": "markdown",
   "metadata": {},
   "source": [
    "**Q1.** What is average income for private college and public college attendees, respectively? What is the *difference* in average income between private college and public college attendees?"
   ]
  },
  {
   "cell_type": "code",
   "execution_count": null,
   "metadata": {},
   "outputs": [],
   "source": [
    "#write code here"
   ]
  },
  {
   "cell_type": "markdown",
   "metadata": {},
   "source": [
    "This is the 'naive' estimate for the average causal effect of attending a private college on income. It is the benchmark we will compare subsequent estimates against. Of course, we know by now that this estimate is contaminated by **selection bias** (and hence, **omitted variable bias**). We will trying controlling for other covariates to get a more credible estimate for the labor market returns to attending a private college."
   ]
  },
  {
   "cell_type": "markdown",
   "metadata": {},
   "source": [
    "### Controlling for Test Scores\n",
    "\n",
    "In this section we will try estimating the return to attending a private college after controlling for `test_decile` via matching. Why might controlling for test scores affect our estimate? There are two reasons. First, participants that attend private colleges tend to have higher test scores."
   ]
  },
  {
   "cell_type": "code",
   "execution_count": null,
   "metadata": {},
   "outputs": [],
   "source": [
    "#run this cell to compare test scores by private school status\n",
    "incomes.select('test_decile', 'private').group('private', np.mean)"
   ]
  },
  {
   "cell_type": "markdown",
   "metadata": {},
   "source": [
    "Second, participants with higher scores tend to have higher incomes."
   ]
  },
  {
   "cell_type": "code",
   "execution_count": null,
   "metadata": {},
   "outputs": [],
   "source": [
    "#run the cell below to plot average income by `test_decile`\n",
    "incomes.select('test_decile', 'income').group('test_decile', np.mean).scatter('test_decile')"
   ]
  },
  {
   "cell_type": "markdown",
   "metadata": {},
   "source": [
    "**Q2.** Given these two facts, how do you anticipate controlling for test scores via matching will affect our estimate for the average causal effect of attending a private college?"
   ]
  },
  {
   "cell_type": "markdown",
   "metadata": {},
   "source": [
    "*#write answer here*"
   ]
  },
  {
   "cell_type": "markdown",
   "metadata": {},
   "source": [
    "**Q3.** Match each private college attendee to a randomly selected public college attendee with the same value of `test_decile`."
   ]
  },
  {
   "cell_type": "code",
   "execution_count": 5,
   "metadata": {},
   "outputs": [
    {
     "data": {
      "text/html": [
       "<table border=\"1\" class=\"dataframe\">\n",
       "    <thead>\n",
       "        <tr>\n",
       "            <th>income</th> <th>private</th> <th>parental_income</th> <th>test_decile</th>\n",
       "        </tr>\n",
       "    </thead>\n",
       "    <tbody>\n",
       "        <tr>\n",
       "            <td>40000 </td> <td>1      </td> <td>13000          </td> <td>1          </td>\n",
       "        </tr>\n",
       "        <tr>\n",
       "            <td>25000 </td> <td>1      </td> <td>5500           </td> <td>4          </td>\n",
       "        </tr>\n",
       "        <tr>\n",
       "            <td>32000 </td> <td>1      </td> <td>3750           </td> <td>5          </td>\n",
       "        </tr>\n",
       "        <tr>\n",
       "            <td>70000 </td> <td>1      </td> <td>110700         </td> <td>10         </td>\n",
       "        </tr>\n",
       "        <tr>\n",
       "            <td>31000 </td> <td>1      </td> <td>150000         </td> <td>7          </td>\n",
       "        </tr>\n",
       "    </tbody>\n",
       "</table>\n",
       "<p>... (504 rows omitted)</p>"
      ],
      "text/plain": [
       "<IPython.core.display.HTML object>"
      ]
     },
     "metadata": {},
     "output_type": "display_data"
    }
   ],
   "source": [
    "#below we've created separate tables for private and public college attendees\n",
    "\n",
    "#generate private table\n",
    "private = incomes.where('private', 1)\n",
    "\n",
    "#generate public table\n",
    "public = incomes.where('private', 0)\n",
    "public = public.with_column('id', np.arange(public.num_rows))"
   ]
  },
  {
   "cell_type": "code",
   "execution_count": null,
   "metadata": {},
   "outputs": [],
   "source": [
    "#write your matching funtion here\n",
    "def match_test_id(test_value):\n",
    "    ..."
   ]
  },
  {
   "cell_type": "code",
   "execution_count": null,
   "metadata": {},
   "outputs": [],
   "source": [
    "#generate your table of matches here\n",
    "#use .apply get array of public college attendees\n",
    "match_indices = ...\n",
    "\n",
    "#use .take and `match_indices` to get a table of matched public college attendees\n",
    "public_test_matches = ...\n",
    "public_test_matches.show(5)"
   ]
  },
  {
   "cell_type": "code",
   "execution_count": null,
   "metadata": {},
   "outputs": [],
   "source": [
    "#print average incomes for private and matched public participants here here"
   ]
  },
  {
   "cell_type": "markdown",
   "metadata": {},
   "source": [
    "**Q4.** How does controlling for test scores affect your estimated return to attending a private college? Is this consistent with what you expected?"
   ]
  },
  {
   "cell_type": "markdown",
   "metadata": {},
   "source": [
    "*#write answer here*"
   ]
  },
  {
   "cell_type": "markdown",
   "metadata": {},
   "source": [
    "### Controlling for Parental Income\n",
    "\n",
    "Next we will try estimating the return to attending a private college after controlling for `parental_income`.\n",
    "\n",
    "As you might expect, participants that attend private colleges tend to have higher income parents."
   ]
  },
  {
   "cell_type": "code",
   "execution_count": 3,
   "metadata": {},
   "outputs": [
    {
     "data": {
      "image/png": "[encoded data removed]",
      "text/plain": [
       "<Figure size 432x288 with 1 Axes>"
      ]
     },
     "metadata": {},
     "output_type": "display_data"
    }
   ],
   "source": [
    "#run the cell below distribution of parental income by private college status\n",
    "incomes.hist('parental_income', group = 'private', bins = 20)"
   ]
  },
  {
   "cell_type": "markdown",
   "metadata": {},
   "source": [
    "**Q5.** How do you anticipate controlling for parental income will affect your estimate for the return to attending a private college? **Why?**"
   ]
  },
  {
   "cell_type": "markdown",
   "metadata": {},
   "source": [
    "*#write your answer here*"
   ]
  },
  {
   "cell_type": "markdown",
   "metadata": {},
   "source": [
    "You will control for parental income by matching each private college attendee to a public college attendee with similar `parental_income`. However, we will not be able to match exactly on `parental_income` as before because that variable takes too many values. For example, one private school attendee has parents that earned $110,700 in income in 1997 -- it's unlikely to find a public school attendee whose parents made exactly that amount in 1997."
   ]
  },
  {
   "cell_type": "code",
   "execution_count": 6,
   "metadata": {},
   "outputs": [
    {
     "data": {
      "text/html": [
       "<table border=\"1\" class=\"dataframe\">\n",
       "    <thead>\n",
       "        <tr>\n",
       "            <th>income</th> <th>private</th> <th>parental_income</th> <th>test_decile</th>\n",
       "        </tr>\n",
       "    </thead>\n",
       "    <tbody>\n",
       "        <tr>\n",
       "            <td>70000 </td> <td>1      </td> <td>110700         </td> <td>10         </td>\n",
       "        </tr>\n",
       "    </tbody>\n",
       "</table>"
      ],
      "text/plain": [
       "income | private | parental_income | test_decile\n",
       "70000  | 1       | 110700          | 10"
      ]
     },
     "execution_count": 6,
     "metadata": {},
     "output_type": "execute_result"
    }
   ],
   "source": [
    "private.take(3)"
   ]
  },
  {
   "cell_type": "markdown",
   "metadata": {},
   "source": [
    "For this participant, there is no *exact* match among public college attendees. The code below finds the closest match:"
   ]
  },
  {
   "cell_type": "code",
   "execution_count": 7,
   "metadata": {},
   "outputs": [
    {
     "data": {
      "text/html": [
       "<table border=\"1\" class=\"dataframe\">\n",
       "    <thead>\n",
       "        <tr>\n",
       "            <th>income</th> <th>private</th> <th>parental_income</th> <th>test_decile</th> <th>id</th> <th>parinc_diff</th>\n",
       "        </tr>\n",
       "    </thead>\n",
       "    <tbody>\n",
       "        <tr>\n",
       "            <td>180331</td> <td>0      </td> <td>110656         </td> <td>9          </td> <td>97  </td> <td>44         </td>\n",
       "        </tr>\n",
       "    </tbody>\n",
       "</table>"
      ],
      "text/plain": [
       "income | private | parental_income | test_decile | id   | parinc_diff\n",
       "180331 | 0       | 110656          | 9           | 97   | 44"
      ]
     },
     "execution_count": 7,
     "metadata": {},
     "output_type": "execute_result"
    }
   ],
   "source": [
    "#run cell below to find closest match\n",
    "parinc_diff = abs(public.column('parental_income') - 110700)\n",
    "min_parinc_diff = min(parinc_diff)\n",
    "public.with_columns('parinc_diff', parinc_diff).where('parinc_diff', min_parinc_diff)"
   ]
  },
  {
   "cell_type": "markdown",
   "metadata": {},
   "source": [
    "**Q6.** Match each one private college attendee to a public with similar `parental_income`. You will not be able to find exact matches for each participcant. Instead, match each private school attendee to the public school attendee with the *smallest absolute difference* in `parental_income` among all public college attendees."
   ]
  },
  {
   "cell_type": "code",
   "execution_count": null,
   "metadata": {},
   "outputs": [],
   "source": [
    "#write your matching function here\n",
    "def match_parinc_id(parinc_value):\n",
    "    ..."
   ]
  },
  {
   "cell_type": "code",
   "execution_count": null,
   "metadata": {},
   "outputs": [],
   "source": [
    "#use .apply get array of public college attendees\n",
    "match_indices = ...\n",
    "\n",
    "#use .take and `match_indices` to get a table of matched public college attendees\n",
    "public_parinc_matches = ...\n",
    "public_parinc_matches.show(5)"
   ]
  },
  {
   "cell_type": "markdown",
   "metadata": {},
   "source": [
    "**Q7.** Plot the distributions of `parental_income` for private college attendees and matched public college attendees."
   ]
  },
  {
   "cell_type": "code",
   "execution_count": null,
   "metadata": {},
   "outputs": [],
   "source": [
    "#write code here for private college attendees"
   ]
  },
  {
   "cell_type": "code",
   "execution_count": null,
   "metadata": {},
   "outputs": [],
   "source": [
    "#write code here for matched public college attendees"
   ]
  },
  {
   "cell_type": "markdown",
   "metadata": {},
   "source": [
    "The distributions of `parental_income` are now very similar, though not matched exactly."
   ]
  },
  {
   "cell_type": "markdown",
   "metadata": {},
   "source": [
    "**Q8.** What is the difference in average income between the private school attendees and the matched public school attendees?"
   ]
  },
  {
   "cell_type": "code",
   "execution_count": null,
   "metadata": {},
   "outputs": [],
   "source": [
    "#print average incomes for private and matched public participants here here"
   ]
  },
  {
   "cell_type": "markdown",
   "metadata": {},
   "source": [
    "**Q9.** How does controlling for parental income affect your estimated return to attending a private college? Is this consistent with what you expected?"
   ]
  },
  {
   "cell_type": "markdown",
   "metadata": {},
   "source": [
    "*#write answer here*"
   ]
  },
  {
   "cell_type": "markdown",
   "metadata": {},
   "source": [
    "----\n",
    "Congratulations, you've finished Lab 5! To submit the lab, run the two cells below:"
   ]
  },
  {
   "cell_type": "code",
   "execution_count": null,
   "metadata": {},
   "outputs": [],
   "source": [
    "# For your convenience, you can run this cell to run all the tests at once\n",
    "import os\n",
    "_ = [ok.grade(q[:-3]) for q in os.listdir(\"tests\") if q.startswith('q')]"
   ]
  },
  {
   "cell_type": "code",
   "execution_count": null,
   "metadata": {},
   "outputs": [],
   "source": [
    "_ = ok.submit()"
   ]
  }
 ],
 "metadata": {
  "kernelspec": {
   "display_name": "Python 3",
   "language": "python",
   "name": "python3"
  },
  "language_info": {
   "codemirror_mode": {
    "name": "ipython",
    "version": 3
   },
   "file_extension": ".py",
   "mimetype": "text/x-python",
   "name": "python",
   "nbconvert_exporter": "python",
   "pygments_lexer": "ipython3",
   "version": "3.6.5"
  }
 },
 "nbformat": 4,
 "nbformat_minor": 2
}
