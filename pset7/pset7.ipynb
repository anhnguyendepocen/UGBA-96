{
 "cells": [
  {
   "cell_type": "markdown",
   "metadata": {
    "#student": false
   },
   "source": [
    "## Problem Set 7\n",
    "### UGBA 96: Data and Decisions, Fall 2018"
   ]
  },
  {
   "cell_type": "code",
   "execution_count": null,
   "metadata": {
    "#student": false
   },
   "outputs": [],
   "source": [
    "from datascience import *\n",
    "%matplotlib inline\n",
    "import matplotlib.pyplot as plt\n",
    "plt.style.use('fivethirtyeight')\n",
    "import numpy as np\n",
    "import gsExport"
   ]
  },
  {
   "cell_type": "markdown",
   "metadata": {
    "#student": false
   },
   "source": [
    "Deadline: This assignment is due Monday, November 5th at noon (12pm). Late work will not be accepted.\n",
    "\n",
    "You will submit your solutions using both OKpy and Gradescope. You will find detailed submission instructions at the bottom of this notebook and on bCourses ([here](https://bcourses.berkeley.edu/files/73630077/download?download_frd=1)). **Please do not remove or add cells and please ignore the '#newpage' cells** (these are here to facilitate Gradescope submission).\n",
    "\n",
    "You should start early so that you have time to get help if you're stuck. Post questions on Piazza. Check the syllabus  for the office hours schedule. Remember that Connector Assistant office hours are for *coding questions only*."
   ]
  },
  {
   "cell_type": "markdown",
   "metadata": {
    "#student": false
   },
   "source": [
    "#newpage"
   ]
  },
  {
   "cell_type": "markdown",
   "metadata": {
    "#student": true
   },
   "source": [
    "## Question 1: Home Renovations"
   ]
  },
  {
   "cell_type": "markdown",
   "metadata": {
    "#student": false
   },
   "source": [
    "**(45 points)** A realtor has hired you as a consultant to analyze data on the San Francisco housing market. A home that the realtor is selling has a large open living space, and the realtor is considering renovating the space by adding an additional bedroom to the home. This renovation would not increase the total square footage of the home, but would increase the number of bedrooms in the home from **one** to **two**. The realtor wants to know how much this renovation will *increase the value of the home*.\n",
    "\n",
    "In other words, the causal question of interest is: how much does adding an additional bedroom to an existing home (without adding any square footage) increases the value of the home?\n",
    "\n",
    "You will not run an experiment to answer this question -- that would be way too expensive. Instead, you will analyze obsevational data. The data you will use describe 1128 homes that were sold in San Francisco in the last 6 months which had between one and three bedrooms (the data are from [Redfin](http://www.redfin.com)). The data include 326 one bedroom homes, 498 two bedroom homes, and 304 three bedroom homes. For each home, the data include the following information:\n",
    "\n",
    "* `hometype`: the type of property (condo, single family home, etc.)\n",
    "* `location`: the neighborhood\n",
    "* `price`: the price the home was sold for\n",
    "* `sqft`: square footage of the home\n",
    "* `beds`: number of bedrooms\n",
    "* `baths`: number of bathrooms\n",
    "* `yearbuilt`: the year the home was built\n",
    "\n",
    "\n",
    "Run the cell below to read in the data."
   ]
  },
  {
   "cell_type": "code",
   "execution_count": null,
   "metadata": {
    "#student": false
   },
   "outputs": [],
   "source": [
    "#run this cell to load the data\n",
    "\n",
    "sf_homes = Table.read_table(\"sf_home_prices.csv\")\n",
    "sf_homes.show(5)"
   ]
  },
  {
   "cell_type": "markdown",
   "metadata": {
    "#student": true
   },
   "source": [
    "**a. (3 points)** What is the meaning of $Y_{1i}$ in this context?"
   ]
  },
  {
   "cell_type": "markdown",
   "metadata": {
    "#student": true
   },
   "source": [
    "*Write answer here*"
   ]
  },
  {
   "cell_type": "markdown",
   "metadata": {
    "#student": true
   },
   "source": [
    "**b. (3 points)** Calculate average price by number of bedrooms. What is the difference between the average price of a one bedroom home and the average price of a two bedroom home?"
   ]
  },
  {
   "cell_type": "code",
   "execution_count": null,
   "metadata": {
    "#student": true
   },
   "outputs": [],
   "source": [
    "#write code here"
   ]
  },
  {
   "cell_type": "markdown",
   "metadata": {
    "#student": false
   },
   "source": [
    "Your business partner believes this difference in price may not reflect the increase in value you'll get by renovating the home and adding a bedroom. As evidence, she shows you the following table:"
   ]
  },
  {
   "cell_type": "code",
   "execution_count": null,
   "metadata": {
    "#student": false
   },
   "outputs": [],
   "source": [
    "#run this cell see to print the table\n",
    "sf_homes.select('beds', 'sqft').group('beds', np.mean)"
   ]
  },
  {
   "cell_type": "markdown",
   "metadata": {
    "#student": true
   },
   "source": [
    "**c. (3 points)** She argues that to calculate the value of adding an additional bedroom, you should control for `sqft` in your analysis. What is the reasoning behind her argument? (Be sure to cite the evidence provided in the table above.)"
   ]
  },
  {
   "cell_type": "markdown",
   "metadata": {
    "#student": true
   },
   "source": [
    "*Write answer here*"
   ]
  },
  {
   "cell_type": "markdown",
   "metadata": {
    "#student": true
   },
   "source": [
    "**d. (5 points)** For this question you will follow your partner's advice. Match each one bedroom home to a two bedroom home with similar square footage. You will not be able to find exact matches for each home. Instead, match each one bedroom home to the two bedroom home with the *smallest absolute difference in square footage* among all two bedroom homes. What is the difference in average price between the one bedroom homes and the matched two bedroom homes?"
   ]
  },
  {
   "cell_type": "code",
   "execution_count": null,
   "metadata": {
    "#student": false
   },
   "outputs": [],
   "source": [
    "#this cell creates separate tables for one bedrooms and two bedrooms\n",
    "onebed = sf_homes.where('beds', 1)\n",
    "\n",
    "twobed = sf_homes.where('beds', 2)\n",
    "#create IDs for each home\n",
    "twobed = twobed.with_column('id', np.arange(twobed.num_rows))\n",
    "onebed.show(5)"
   ]
  },
  {
   "cell_type": "code",
   "execution_count": null,
   "metadata": {
    "#student": true
   },
   "outputs": [],
   "source": [
    "#write your match function here"
   ]
  },
  {
   "cell_type": "code",
   "execution_count": null,
   "metadata": {
    "#student": true
   },
   "outputs": [],
   "source": [
    "#apply your match function here"
   ]
  },
  {
   "cell_type": "code",
   "execution_count": null,
   "metadata": {
    "#student": true
   },
   "outputs": [],
   "source": [
    "#print results here"
   ]
  },
  {
   "cell_type": "markdown",
   "metadata": {
    "#student": true
   },
   "source": [
    "**e. (5 points)** What do your findings in **part (b)** and **part (c)** imply about the sign of the correlation between `beds` and `sqft`?"
   ]
  },
  {
   "cell_type": "markdown",
   "metadata": {
    "#student": true
   },
   "source": [
    "*Write your answer here*"
   ]
  },
  {
   "cell_type": "markdown",
   "metadata": {
    "#student": true
   },
   "source": [
    "**f. (5 points)** Your partner is also concerned that one bedroom homes may be concentrated in neighborhoods that are more or less attractive than the neighborhoods where two bedroom homes are concentrated. In this question, you will control for `neighborhood` in addition to `sqft`.\n",
    "\n",
    "For each one bedroom, find a two bedroom match in the same `neighborhood`, and with the smallest absolute difference in `sqft` within that neighborhood. What is the difference in average price between the one bedroom homes and the *matched* two bedroom homes?"
   ]
  },
  {
   "cell_type": "code",
   "execution_count": null,
   "metadata": {
    "#student": true
   },
   "outputs": [],
   "source": [
    "#write your match function here"
   ]
  },
  {
   "cell_type": "code",
   "execution_count": null,
   "metadata": {
    "#student": true
   },
   "outputs": [],
   "source": [
    "#apply your match function here"
   ]
  },
  {
   "cell_type": "code",
   "execution_count": null,
   "metadata": {
    "#student": true
   },
   "outputs": [],
   "source": [
    "#print results here"
   ]
  },
  {
   "cell_type": "markdown",
   "metadata": {
    "#student": true
   },
   "source": [
    "**g. (5 points)** For both sets of matches you construct (in **part (c)** and **part (f)**), calculate and print the average absolute difference in `sqft` across all matched pairs of homes. For example, the first home in `onebed` is 847 square feet. Suppose the two bedroom match you found in **part (f)** for that home is 1054 square feet. Then the absolute difference for that pair is $|847 - 1054| = 207$ (square feet)."
   ]
  },
  {
   "cell_type": "code",
   "execution_count": null,
   "metadata": {
    "#student": true
   },
   "outputs": [],
   "source": [
    "#write code here for match from part (c)"
   ]
  },
  {
   "cell_type": "code",
   "execution_count": null,
   "metadata": {
    "#student": true
   },
   "outputs": [],
   "source": [
    "#write code here for match from part (f)"
   ]
  },
  {
   "cell_type": "markdown",
   "metadata": {
    "#student": true
   },
   "source": [
    "**h. (3 points)** You should find that the average absolute difference is larger for the match from **part (f)**, meaning that matched homes are less comparable on `sqft` when you match on both `neighborhood` and `sqft` than when you match on just `sqft`. Why is this expected?"
   ]
  },
  {
   "cell_type": "markdown",
   "metadata": {
    "#student": true
   },
   "source": [
    "*Write your answer here*"
   ]
  },
  {
   "cell_type": "markdown",
   "metadata": {
    "#student": true
   },
   "source": [
    "**i. (3 points)** Compute difference in age between one bedroom and matched two bedroom apartments (use your first match from **part (c)**)."
   ]
  },
  {
   "cell_type": "code",
   "execution_count": null,
   "metadata": {
    "#student": true
   },
   "outputs": [],
   "source": [
    "#write code here"
   ]
  },
  {
   "cell_type": "markdown",
   "metadata": {
    "#student": true
   },
   "source": [
    "**j. (5 points)** Based on results in **part (h)**, how do you think controlling for home age (in addition to square footage) would affect the difference in price you measure? Why?"
   ]
  },
  {
   "cell_type": "markdown",
   "metadata": {
    "#student": true
   },
   "source": [
    "*Write your answer here*"
   ]
  },
  {
   "cell_type": "markdown",
   "metadata": {
    "#student": true
   },
   "source": [
    "**k. (5 points)** Recall that we are ultimately interested in measuring the average causal effect of adding an additional bedroom to an existing home, holding total square footage fixed. Suppose we were to control for `sqft`, `neighborhood`, and `age` and estimate this average causal effect using the difference in selling price between one bedrooms and matched two bedrooms. What is the **selection on observables** assumption that would be required for this approach to generate an unbiased estimate for the average causal effect of interest? Does this assumption seem plausible here? Why or why not?"
   ]
  },
  {
   "cell_type": "markdown",
   "metadata": {
    "#student": true
   },
   "source": [
    "*#write answer here*"
   ]
  },
  {
   "cell_type": "markdown",
   "metadata": {
    "#student": false
   },
   "source": [
    "#newpage"
   ]
  },
  {
   "cell_type": "markdown",
   "metadata": {
    "#student": true
   },
   "source": [
    "## Submission"
   ]
  },
  {
   "cell_type": "markdown",
   "metadata": {
    "#student": false
   },
   "source": [
    "Before submitting, please click \"Kernel\" above and click \"Restart & Run All\" to ensure all of your code is working as expected. This is important. Code that does not run cannot be graded. After confirming that all of your work looks and runs as you'd like it to, run **BOTH** of the below cells to submit your work. Failure to submit correctly may result in a 10% point penalty.\n",
    "\n",
    "First, make sure that the following runs successfully for submission to OKpy."
   ]
  },
  {
   "cell_type": "code",
   "execution_count": null,
   "metadata": {
    "#student": true
   },
   "outputs": [],
   "source": [
    "from client.api.notebook import Notebook\n",
    "ok = Notebook('pset7.ok')                \n",
    "_ = ok.auth(inline=True)\n",
    "_ = ok.submit()"
   ]
  },
  {
   "cell_type": "markdown",
   "metadata": {
    "#student": false
   },
   "source": [
    "Then, make sure that the following runs successfully to generate a PDF to upload to Gradescope. **Do not upload any other PDF to Gradescope other than the one generated by the below code.** If you have difficulty downloading the PDF, please see Piazza for troubleshooting steps."
   ]
  },
  {
   "cell_type": "code",
   "execution_count": null,
   "metadata": {
    "#student": true
   },
   "outputs": [],
   "source": [
    "gsExport.generateSubmission('pset7.ipynb')"
   ]
  }
 ],
 "metadata": {
  "checksums": [
   "ba0391bf5c292ec5f9dc130cbab061bf",
   "b3b0a6bec3590179f09133c5a9414f68",
   "8d92b17279aadcf944ee5484d62967b8",
   "640061103a186fd26f59746dd4d6de57",
   "0b76fc2d3596a5fa6560e5c5433368b6",
   "0d34af9cf39551fd99af668543d46daa",
   "072968932e7cc6013fb33867618615d2",
   "ee8d9fd88ed15a5dc6f5958de3d5ad79",
   "dc6cbd7363440ca8e1f1e7a052a3f3f3",
   "2e7e8261e50c60e8c410866564eddfa6",
   "b34df92515c8d9f037de2d2ed6e8eb41",
   "b95580a099c4d141447fabcce70e47b6",
   "cecfe00507c276250cc006e6024681ba",
   "2dc4cb483a4ceea0c69c828ba353bb0d",
   "dc6cbd7363440ca8e1f1e7a052a3f3f3",
   "9215cd4c6510486d94e6cb92ff9af4ca",
   "eff16d0c30e8fb706bb61c733aa2527a",
   "cc950e292c723e52e8684a9025858878",
   "bb24c9ec2f0a72347174642019ca1b63",
   "c1cebe020e4ff3cf98ad7f5fb134f3a5",
   "1270076cf79702b651c29ca61d85e9db",
   "0146536757eb097d12e4b27748df4e3b",
   "d7daf6ef74753c15dcaede10e6a6c47f",
   "cc950e292c723e52e8684a9025858878",
   "bb24c9ec2f0a72347174642019ca1b63",
   "c1cebe020e4ff3cf98ad7f5fb134f3a5",
   "fa321f0239e08764e37c6f54b5b38623",
   "6b3d45fabfb95e531b55754bdd04d00a",
   "5df52412f289fc6e3a0a481c4364ea4b",
   "6c5b0858bc97df299b8ee212ef44bd22",
   "0146536757eb097d12e4b27748df4e3b",
   "f83989983557ec46b7e247534778ba6b",
   "b34df92515c8d9f037de2d2ed6e8eb41",
   "9844bb02f8b5621a93283dc2c24478cb",
   "0146536757eb097d12e4b27748df4e3b",
   "94c572a651a4d7376005fde40b24f640",
   "86a04f3337f3bb1479601b5f8774b878",
   "640061103a186fd26f59746dd4d6de57",
   "facbfaf02205d9939fc553c09d23c3cf",
   "6df8aae69f1c6bd5ea3ae3ff3bfca3ff",
   "f19ecdfa4788aa6c1391438e80ad51f6",
   "1c5f11927dfd193b98c9eea79df1a4cd",
   "06758d1b81848da9d1076cb8538cf2ef"
  ],
  "kernelspec": {
   "display_name": "Python 3",
   "language": "python",
   "name": "python3"
  },
  "language_info": {
   "codemirror_mode": {
    "name": "ipython",
    "version": 3
   },
   "file_extension": ".py",
   "mimetype": "text/x-python",
   "name": "python",
   "nbconvert_exporter": "python",
   "pygments_lexer": "ipython3",
   "version": "3.6.5"
  },
  "number_of_pagebreaks": 3
 },
 "nbformat": 4,
 "nbformat_minor": 2
}
