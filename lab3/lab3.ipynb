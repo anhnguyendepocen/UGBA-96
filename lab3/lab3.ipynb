{
 "cells": [
  {
   "cell_type": "markdown",
   "metadata": {},
   "source": [
    "## Lab 3\n",
    "### UGBA 96: Data and Decisions, Fall 2018\n",
    "\n",
    "<br>\n",
    "\n",
    "This lab is designed to be completed in class. However, in case you need additional time, this assignment is due **Tuesday, October 16th at 11:59pm**.\n",
    "\n",
    "The lab will be graded for **completion**. Lab office hours are held by Connector Assistants on Tuesdays after labs from 1-3pm in the DS Nexus in Moffitt.\n",
    "\n",
    "## What's Advertising Content Worth?\n",
    "\n",
    "<img src=\"credit_indemnity.png\" alt=\"Drawing\" style=\"width: 300px;\"/>\n",
    "\n",
    "Firms spend billions of dollars on advertising, but there is surprisingly little quantitative evidence on its effectiveness in persuading customers. What works? What doesn't work?\n",
    "\n",
    "In this lab we will evaluate the advertising experiment introduced in lecture. The experiment was conducted by Credit Indemnity, one of the largest micro-lenders in South Africa. The lender offers short-term, high-interest, uncollateralized credit for people without other access to credit. The typical loan is about $150, about a third of the borrower's monthy income. Most of the loans last about four months.\n",
    "\n",
    "Credit Indemnity performed an experiment in which they sent credit offers by mail to more than 50,000 previous customers. In this experiment Credit Indemnity randomly varied the offers in several ways, including the interest rates. But many of the variations were purely cosmetic, including whether the offer letter refers to the offered interest rate as 'special' or 'low' or whether it included a photo of a man or a woman.\n",
    "\n",
    "In this lab, we will analyze the experiment data to determine which features of the offer letter made a difference in getting customers to apply for a loan.\n",
    "\n",
    "---\n",
    "\n",
    "### Table of Contents\n",
    "\n",
    "1. [Describing the Experiment and Data](#experiment)<br>\n",
    "2. [Measuring Treatment Effects](#treatment)<br>\n",
    "3. [Are These Effects Statistically Significant?](#tests)<br>\n",
    "4. [What Matters for Advertising Content?](#conclusion)<br>\n",
    "\n",
    "\n",
    "**Dependencies:**"
   ]
  },
  {
   "cell_type": "code",
   "execution_count": null,
   "metadata": {},
   "outputs": [],
   "source": [
    "from datascience import *\n",
    "import numpy as np\n",
    "import pandas as pd\n",
    "\n",
    "#These lines set up graphing capabilities.\n",
    "import matplotlib.pyplot as plt\n",
    "%matplotlib inline\n",
    "plt.style.use('fivethirtyeight')\n",
    "\n",
    "from client.api.notebook import Notebook\n",
    "ok = Notebook('lab3.ok')\n",
    "_ = ok.auth(inline=True) "
   ]
  },
  {
   "cell_type": "markdown",
   "metadata": {},
   "source": [
    "## Section 1: Describing the Experiment Data <a id='experiment'></a>\n",
    "\n",
    "Credit Indemnity randomized advertising content and the interest rate in actual offers to 53,000 former\n",
    "clients.\n",
    "\n",
    "Here's an example of a loan offer that was mailed as part of the experiment:\n",
    "\n",
    "<img src=\"example_flyer.png\" alt=\"Drawing\" style=\"width: 400px;\"/>\n",
    "\n",
    "**Run the cell below to read in data from the experiment.**"
   ]
  },
  {
   "cell_type": "code",
   "execution_count": null,
   "metadata": {},
   "outputs": [],
   "source": [
    "experiment = Table.read_table('loan_ads.csv')\n",
    "experiment.show(5)"
   ]
  },
  {
   "cell_type": "markdown",
   "metadata": {},
   "source": [
    "Below we describe how each column is defined. Each column represents a customer (indexed by `id`). \n",
    "\n",
    "* `risk`: The lender's assessment for how risky it is to lend to a particular customer. Customers that are less likely to pay back the loan are more risky. `risk` takes three values: 'Low', 'Medium', and 'High'.\n",
    "* `offer_rate`: The interest rate on the loan offered to the customer.\n",
    "* `photo_female`: An indicator whether the offer letter includes a photo of a woman.\n",
    "* `photo_none`: An indicator for whether the offer letter includes no photo.\n",
    "* `intshown`: An indicator for whether the offter letter explicitly shows the interest rate.\n",
    "* `suggest_use`: An indicator for whether the offer letter suggests a specific use for the loan.\n",
    "* `special_offer`: An indicator for whether the offer letter advertises the offered interest rate as 'special' or 'low'.\n",
    "\n",
    "The outcome we will focus on is `applied`, an indicator for whether a customer applies for a loan. The mean of `applied` is 8.5%.\n",
    "\n",
    "**Run the cell below to confirm the mean of `applied`**."
   ]
  },
  {
   "cell_type": "code",
   "execution_count": null,
   "metadata": {},
   "outputs": [],
   "source": [
    "#calculate mean of `applied`\n",
    "experiment.column('applied').mean()"
   ]
  },
  {
   "cell_type": "markdown",
   "metadata": {},
   "source": [
    "In the example offer letter shown above, the `offer_rate` is 3.99, `intshown` is zero, `suggest_use` is 1 ('You can use this cash to buy an appliance...'), and `special_offer` is one ('A special rate for you')."
   ]
  },
  {
   "cell_type": "markdown",
   "metadata": {},
   "source": [
    "## Section 2: Measuring Treatment Effects <a id='treatment'></a>\n",
    "\n",
    "In each subsection below, you will measure the causal effect for one of several treatments that Credit Indemnity tested in their experiment."
   ]
  },
  {
   "cell_type": "markdown",
   "metadata": {},
   "source": [
    "### Loan Applications and Interest Rates\n",
    "\n",
    "In this section you will measure the causal effect of `offer_rate`, the interest rate offered in the letter, on customer application rates.\n",
    "\n",
    "What is an **interest rate**? You can think of the interest rate as the the price of the loan--the higher the interest rate, the more a customer will generally have to pay. In this case, the interest rate is a percentage of the principal balance that the borrower must pay each month as a fee. For example, consider the four month loan advertised in the letter above, where the interest rate is 3.99. The borrowed amount is 1000 rand (the South African currency). In addition to that initial amount, the borrower pays about 40 ($\\approx 0.0399 \\times 1000$) rand each month in interest.\n",
    "\n",
    "By contrast to the other letter features we will investigate, `offer_rate` is the only feature where there is a clear *economic* reason for customers to care about the feature.\n",
    "\n",
    "The set of interest rates a customer may get depends on that customer's assessed risk level. Customers that the bank perceives have a **high** risk of not repaying their loan face higher interest rates than customers that the bank perceives are **low** risk. But among customers at a given risk level, `offer_rate` can take many values and is **randomly assigned**. Random assignment will allow us to measure the causal relationship between `offer_rate` and loan application rates.\n",
    "\n",
    "**Run the cell below to show how `offer_rate` varies with `risk`.**"
   ]
  },
  {
   "cell_type": "code",
   "execution_count": null,
   "metadata": {},
   "outputs": [],
   "source": [
    "experiment.group('risk', np.mean).select('risk', 'offer_rate mean')"
   ]
  },
  {
   "cell_type": "markdown",
   "metadata": {},
   "source": [
    "Among customers at a given risk level, `offer_rate` is randomly assigned.\n",
    "\n",
    "**Q1.** Plot a histogram of `offer_rate` among **'High'** risk customers."
   ]
  },
  {
   "cell_type": "code",
   "execution_count": null,
   "metadata": {},
   "outputs": [],
   "source": [
    "#write code here"
   ]
  },
  {
   "cell_type": "markdown",
   "metadata": {},
   "source": [
    "Next, we will investigate the causal relationship between `offer_rate` and `applied`. By contrast to past 'treatments' we have studied, `offer_rate` takes more than two values. This means there are more than two potential outcomes for each customer; in fact, there is a distinct potential outcome for each value of `offer_rate`. In this case, a natural way to summarize the causal effect of `offer_rate` on `applied` is to plot the relationship between the two variables.\n",
    "\n",
    "Before we do that, what do you expect to find?\n",
    "\n",
    "**Q2.** Do you expect loan application rates to be related to `offer_rate`? If so, do you expect application rates to be *increasing* or *decreasing* in `offer_rate`? Why?"
   ]
  },
  {
   "cell_type": "markdown",
   "metadata": {},
   "source": [
    "*#write answer here*"
   ]
  },
  {
   "cell_type": "markdown",
   "metadata": {},
   "source": [
    "**Q3.** Use a bin scatter plot to summarize the relationship between `applied` and `offer_rate`, again restricting to customers that are **'High'** risk. [We've written some of the code for you as we have for previous bin scatters.]"
   ]
  },
  {
   "cell_type": "code",
   "execution_count": null,
   "metadata": {},
   "outputs": [],
   "source": [
    "#write code here\n",
    "\n",
    "#use this table for your plot\n",
    "offer_rate_table = experiment.where('risk', are.equal_to('High'))\n",
    "\n",
    "#the code below creates a column that maps each advance value to a decile\n",
    "rate_bins = pd.qcut(offer_rate_table.column('offer_rate'), 10, labels=False)"
   ]
  },
  {
   "cell_type": "markdown",
   "metadata": {},
   "source": [
    "**Q4.** What's your eye-ball estimate for the slope? [Later we'll cover a method to measure this slope more scientifically: regression.]"
   ]
  },
  {
   "cell_type": "markdown",
   "metadata": {},
   "source": [
    "*#To answer, fill in the blank for this sentence: For every 1 percentage point increase in `offer_rate`, loan application rates increase by **???** percentage points.*"
   ]
  },
  {
   "cell_type": "markdown",
   "metadata": {},
   "source": [
    "We will use this estimate for the slope to benchmark the importance of other advertising content features we investigate below.\n",
    "\n",
    "### Showing the Interest Rate"
   ]
  },
  {
   "cell_type": "markdown",
   "metadata": {},
   "source": [
    "Credit Indemnity also randomized whether the letter included an *explicit* mention of the offered interest rate. In cases where the interest rate was suppressed, the information presented in the table was sufficient for the client to calculate the rate. Here is what the two variants look like:\n",
    "\n",
    "<img src=\"showint.png\" alt=\"Drawing\" style=\"width: 300px;\"/> <img src=\"noshowint.png\" alt=\"Drawing\" style=\"width: 300px;\"/>\n",
    "\n",
    "In this section we will estimate the average causal effect of showing the interest rate (as measured by `intshown`) on whether a customer applies for a loan (as measured by `applied`).\n",
    "\n",
    "*But wait, you may ask. We've already used the same data to estimate the average causal effect of the interest rate. Can we estimate average causal effects for two variables in a single experiment?*\n",
    "\n",
    "**Yes, we can!** That's because for whatever treatment we focus on, the associated treatment and control groups should still be balanced. For example, since both `offer_rate` and `intshown` are randomly assigned, if we compare customers that receive offers with `intshown = 1` and `intshown = 0`, the distribution of offered interest rates should be approximately the same in both groups.\n",
    "\n",
    "**Run the cell below to compare histograms of `offer_rate` for customers where `intshown = 0` and `intshow = 1`.**"
   ]
  },
  {
   "cell_type": "code",
   "execution_count": null,
   "metadata": {},
   "outputs": [],
   "source": [
    "experiment.select('intshown', 'offer_rate').hist('offer_rate', group = 'intshown')"
   ]
  },
  {
   "cell_type": "markdown",
   "metadata": {},
   "source": [
    "This looks like only one histogram (rather than two) because the distributions lie exactly on top of one another.\n",
    "\n",
    "Next we will create the table `intshown_table` to answer the questions below. This table includes only columns we need and will speed up code you run at the end of this lab. **Run the cell below to generate this table.**"
   ]
  },
  {
   "cell_type": "code",
   "execution_count": null,
   "metadata": {},
   "outputs": [],
   "source": [
    "intshown_table = experiment.select('intshown', 'applied')"
   ]
  },
  {
   "cell_type": "markdown",
   "metadata": {},
   "source": [
    "**Q4.** Calculate the mean of `applied` separately by treatment status. Display using a bar chart or table."
   ]
  },
  {
   "cell_type": "code",
   "execution_count": null,
   "metadata": {},
   "outputs": [],
   "source": [
    "#write code here"
   ]
  },
  {
   "cell_type": "markdown",
   "metadata": {},
   "source": [
    "**Q5** Estimate the causal effect of `intshown` on loan application rates by computing the difference in means for `applied` between the treatment and control groups. Store using `intshown_diff`. Does showing the interest rate appear to make a difference?"
   ]
  },
  {
   "cell_type": "code",
   "execution_count": null,
   "metadata": {},
   "outputs": [],
   "source": [
    "#write your code here\n",
    "intshown_diff = ...\n",
    "intshown_diff"
   ]
  },
  {
   "cell_type": "code",
   "execution_count": null,
   "metadata": {},
   "outputs": [],
   "source": [
    "_ = ok.grade(\"q5\")"
   ]
  },
  {
   "cell_type": "markdown",
   "metadata": {},
   "source": [
    "*#write answer here*"
   ]
  },
  {
   "cell_type": "markdown",
   "metadata": {},
   "source": [
    "### Male vs. Female Photo\n",
    "\n",
    "Next, we look at the average causal effect of including photo of a woman (versus man) on application behavior.\n",
    "\n",
    "Here, for simplicity, we will look only at offers that included either a male or female photo. The treatment we will consider is an indicator, `photo_female`, for whether the person in the photo is female. The control group receives offer letters where the person pictured is male. Hence, we're measuring the average causal effect of a female photo, where the counterfactual is a male photo.\n",
    "\n",
    "<img src=\"malephoto.png\" alt=\"Drawing\" style=\"width: 100px;\"/>\n",
    "<center>Example of a photo</center>\n",
    "\n",
    "<img src=\"femalephoto.png\" alt=\"Drawing\" style=\"width: 100px;\"/>\n",
    "<center>Example of a photo</center>\n",
    "\n",
    "We will create the table `photo_table` to answer the questions below. **Run the cell below to generate this table.**"
   ]
  },
  {
   "cell_type": "code",
   "execution_count": null,
   "metadata": {},
   "outputs": [],
   "source": [
    "photo_table = experiment.where('photo_none', 0)"
   ]
  },
  {
   "cell_type": "markdown",
   "metadata": {},
   "source": [
    "**Q6.** Calculate the mean of `applied` separately by treatment status. Display using a bar chart or table."
   ]
  },
  {
   "cell_type": "code",
   "execution_count": null,
   "metadata": {},
   "outputs": [],
   "source": [
    "#write your code here"
   ]
  },
  {
   "cell_type": "markdown",
   "metadata": {},
   "source": [
    "**Q7.** Estimate the causal effect of `photo_female` on loan application rates by computing the difference in means for `applied` between the treatment and control groups. Store using `photo_diff`. Does showing the interest rate appear to make a difference? (How does this compare to the effect of an interest rate increase of 1 percentage point?)"
   ]
  },
  {
   "cell_type": "code",
   "execution_count": null,
   "metadata": {},
   "outputs": [],
   "source": [
    "#write your code here\n",
    "photo_diff = ...\n",
    "photo_diff"
   ]
  },
  {
   "cell_type": "code",
   "execution_count": null,
   "metadata": {},
   "outputs": [],
   "source": [
    "_ = ok.grade(\"q7\")"
   ]
  },
  {
   "cell_type": "markdown",
   "metadata": {},
   "source": [
    "*#write answer here*"
   ]
  },
  {
   "cell_type": "markdown",
   "metadata": {},
   "source": [
    "### Suggested Use for the Loan\n",
    "\n",
    "Next, we look at the average causal effect of suggesting a specific use for the loan on application behavior. Loan offers were randomly assigned to receive exactly one of the following statements:\n",
    "\n",
    "1. “You can use this cash for anything you want.”\n",
    "2. “You can use this cash to pay for school, or for anything else you want.”\n",
    "3. “You can use this cash to pay off a more expensive debt, or for anything else you want.”\n",
    "4. “You can use this cash to repair your home, or for anything else you want.”\n",
    "5. “You can use this cash to buy an appliance, or for anything else you want.”\n",
    "\n",
    "Here we define the treatment as receiving *any* specific suggested use, meaning any of statements 2 through 5 above. The indicator `suggest_use` is set to one if the offer includes a suggested use, and zero if not(i.e. statement 1 is included).\n",
    "\n",
    "We will create the table `suggest_table` to answer the questions below. **Run the cell below to generate this table.**"
   ]
  },
  {
   "cell_type": "code",
   "execution_count": null,
   "metadata": {},
   "outputs": [],
   "source": [
    "suggest_table = experiment.select('suggest_use', 'applied')"
   ]
  },
  {
   "cell_type": "markdown",
   "metadata": {},
   "source": [
    "**Q8.** Calculate the mean of `applied` separately by treatment status. Display using a bar chart or table."
   ]
  },
  {
   "cell_type": "code",
   "execution_count": null,
   "metadata": {},
   "outputs": [],
   "source": [
    "#write your code here"
   ]
  },
  {
   "cell_type": "markdown",
   "metadata": {},
   "source": [
    "**Q9.** Estimate the causal effect of `suggest_use` on loan application rates by computing the difference in means for `applied` between the treatment and control groups. Store using `suggest_diff`. Does showing the interest rate appear to make a difference?"
   ]
  },
  {
   "cell_type": "code",
   "execution_count": null,
   "metadata": {},
   "outputs": [],
   "source": [
    "#write your code here\n",
    "suggest_diff = ...\n",
    "suggest_diff"
   ]
  },
  {
   "cell_type": "code",
   "execution_count": null,
   "metadata": {},
   "outputs": [],
   "source": [
    "_ = ok.grade(\"q9\")"
   ]
  },
  {
   "cell_type": "markdown",
   "metadata": {},
   "source": [
    "*#write answer here*"
   ]
  },
  {
   "cell_type": "markdown",
   "metadata": {},
   "source": [
    "### Advertising a 'Special Offer'\n",
    "\n",
    "Finally, we look at the average causal effect of advertising the offered interest rate as 'special' or 'low' on application behavior. This corresponds to the indicator `special_offer`.\n",
    "\n",
    "<img src=\"specialrate.png\" alt=\"Drawing\" style=\"width: 300px;\"/>\n",
    "\n",
    "We will create the table `special_table` to answer the questions below. **Run the cell below to generate this table.**"
   ]
  },
  {
   "cell_type": "code",
   "execution_count": null,
   "metadata": {},
   "outputs": [],
   "source": [
    "special_table = experiment.where('wave', 2).select('special_offer', 'applied')"
   ]
  },
  {
   "cell_type": "markdown",
   "metadata": {},
   "source": [
    "**Q10.** Calculate the mean of `applied` separately by treatment status. Display using a bar chart or table."
   ]
  },
  {
   "cell_type": "code",
   "execution_count": null,
   "metadata": {},
   "outputs": [],
   "source": [
    "#write your code here"
   ]
  },
  {
   "cell_type": "markdown",
   "metadata": {},
   "source": [
    "**Q11.** Estimate the causal effect of `special_offer` on loan application rates by computing the difference in means for `applied` between the treatment and control groups. Store using `suggest_diff`. Does showing the interest rate appear to make a difference?"
   ]
  },
  {
   "cell_type": "code",
   "execution_count": null,
   "metadata": {},
   "outputs": [],
   "source": [
    "#write your code here\n",
    "special_diff = ...\n",
    "special_diff"
   ]
  },
  {
   "cell_type": "code",
   "execution_count": null,
   "metadata": {},
   "outputs": [],
   "source": [
    "_ = ok.grade(\"q11\")"
   ]
  },
  {
   "cell_type": "markdown",
   "metadata": {},
   "source": [
    "*#write answer here*"
   ]
  },
  {
   "cell_type": "markdown",
   "metadata": {},
   "source": [
    "### Section 3: Are These Effects Statistically Significant? <a id='tests'></a>\n",
    "\n",
    "We have measured the difference in application rates between 'treatment' and 'control' groups for a variety of treatments. However, we have not confirmed whether any differences we measured are statistically significant.\n",
    "\n",
    "In this section, you will test whether each measured treatment effect is statistically significant. In particular, for each treatment, you will conduct a hypothesis test for whether the treatment and control distributions of `applied` are different.\n",
    "\n",
    "Recall that with hypothesis tests, we need a **null hypothesis** and an **alternative hypothesis**. Recall that our outcome of interest is an indicator whether a customer applies for a loan or not (`applied`). In our case, the null and alternative hypotheses are:\n",
    "\n",
    "* Null hypothesis: In the population, the distribution of $Y_{0i}$ and $Y_{1i}$ among all customers are the *same*. The difference in the sample is due to chance.\n",
    "\n",
    "* Alternative hypothesis: In the population, the distribution of $Y_{0i}$ and $Y_{1i}$ among all customers are *different*. [This is a two-sided test.]\n",
    "\n",
    "The **test statistic** we'll use is the difference in average `applied` between the treatment and control groups.\n",
    "\n",
    "To predict the test statistic under the null hypothesis, you will use the permutation method.\n",
    "\n",
    "\n",
    "Here's a [link to the relevant data 8 material.](https://www.inferentialthinking.com/chapters/12/1/ab-testing.html)\n",
    "\n",
    "Below we have provided the useful function `permuted_sample_average_difference` defined in Data 8."
   ]
  },
  {
   "cell_type": "code",
   "execution_count": null,
   "metadata": {},
   "outputs": [],
   "source": [
    "#Run this cell to define the function permuted_sample_average_difference \n",
    "def permuted_sample_average_difference(table, label, group_label, repetitions):\n",
    "\n",
    "    tbl = table.select(group_label, label)\n",
    "\n",
    "    differences = make_array()\n",
    "    for i in np.arange(repetitions):\n",
    "        shuffled = tbl.sample(with_replacement = False).column(1)\n",
    "        original_and_shuffled = tbl.with_column('Shuffled Data', shuffled)\n",
    "\n",
    "        shuffled_means = original_and_shuffled.group(group_label, np.average).column(2)\n",
    "        simulated_difference = shuffled_means.item(1) - shuffled_means.item(0)\n",
    "\n",
    "        differences = np.append(differences, simulated_difference)\n",
    "\n",
    "    return differences"
   ]
  },
  {
   "cell_type": "markdown",
   "metadata": {},
   "source": [
    "**Q12.** Use a permutation test to test whether the treatment effect we measured for `special_offer` is statistically significant. (In other words, you will conduct a hypothesis test for whether the treatment and control distributions are different.) We suggest simulation between 100 and 1000 repetitions. Be sure to report a p-value. Is there evidence that including a `special_offer` increases or decreases application rates?"
   ]
  },
  {
   "cell_type": "code",
   "execution_count": null,
   "metadata": {},
   "outputs": [],
   "source": [
    "#assign array of simulated test statistics under null\n",
    "#hint: use permuted_sample_average_difference function defined above\n",
    "special_sim_diff = ...\n",
    "\n",
    "#assign p-value\n",
    "special_pvalue = ...\n",
    "\n",
    "print('estimated treatment effect =', special_diff)\n",
    "print('special value p_value =', special_pvalue)"
   ]
  },
  {
   "cell_type": "markdown",
   "metadata": {},
   "source": [
    "*#write your answer*"
   ]
  },
  {
   "cell_type": "markdown",
   "metadata": {},
   "source": [
    "**Q13.** Repeat exercise **Q12**, but for `female_photo`. Is there evidence that including a female photo increases or decreases application rates (relative to a male photo)?"
   ]
  },
  {
   "cell_type": "code",
   "execution_count": null,
   "metadata": {},
   "outputs": [],
   "source": [
    "#assign array of simulated test statistics under null\n",
    "photo_sim_diff = ...\n",
    "\n",
    "#assign p-value\n",
    "photo_pvalue = ...\n",
    "\n",
    "print('estimated treatment effect =', photo_diff)\n",
    "print('female photo p_value =', photo_pvalue)"
   ]
  },
  {
   "cell_type": "markdown",
   "metadata": {},
   "source": [
    "*#write your answer*"
   ]
  },
  {
   "cell_type": "markdown",
   "metadata": {},
   "source": [
    "**Q14.** Repeat exercise **Q12**, but for `suggest_use`. Is there evidence that suggesting a specific use for the loan increases or decreases application rates?"
   ]
  },
  {
   "cell_type": "code",
   "execution_count": null,
   "metadata": {},
   "outputs": [],
   "source": [
    "#assign array of simulated test statistics under null\n",
    "suggest_sim_diff = ...\n",
    "\n",
    "#assign p-value\n",
    "suggest_pvalue = ...\n",
    "\n",
    "print('estimated treatment effect =', suggest_diff)\n",
    "print('suggest use p_value =', suggest_pvalue)"
   ]
  },
  {
   "cell_type": "markdown",
   "metadata": {},
   "source": [
    "*#write your answer*"
   ]
  },
  {
   "cell_type": "markdown",
   "metadata": {},
   "source": [
    "**Q15.** Repeat exercise **Q12**, but for `intshown`. Is there evidence that showing the interest rate increases or decreases application rates?"
   ]
  },
  {
   "cell_type": "code",
   "execution_count": null,
   "metadata": {},
   "outputs": [],
   "source": [
    "#assign array of simulated test statistics under null\n",
    "intshown_sim_diff = ...\n",
    "\n",
    "#assign p-value\n",
    "intshown_pvalue = ...\n",
    "\n",
    "print('estimated treatment effect =', intshown_diff)\n",
    "print('intshown p_value =', intshown_pvalue)"
   ]
  },
  {
   "cell_type": "markdown",
   "metadata": {},
   "source": [
    "*#write your answer*"
   ]
  },
  {
   "cell_type": "markdown",
   "metadata": {},
   "source": [
    "### Section 4: What Matters for Advertising Content? <a id='conclusion'></a>\n",
    "\n",
    "**Q16.** In conclusion, what matters for advertising in this context? How would you summarize the evidence?"
   ]
  },
  {
   "cell_type": "markdown",
   "metadata": {},
   "source": [
    "*#write your answer*"
   ]
  },
  {
   "cell_type": "markdown",
   "metadata": {},
   "source": [
    "----\n",
    "Congratulations, you've finished Lab 3! To submit the lab, run the two cells below:"
   ]
  },
  {
   "cell_type": "code",
   "execution_count": null,
   "metadata": {},
   "outputs": [],
   "source": [
    "# For your convenience, you can run this cell to run all the tests at once\n",
    "import os\n",
    "_ = [ok.grade(q[:-3]) for q in os.listdir(\"tests\") if q.startswith('q')]"
   ]
  },
  {
   "cell_type": "code",
   "execution_count": null,
   "metadata": {},
   "outputs": [],
   "source": [
    "_ = ok.submit()"
   ]
  }
 ],
 "metadata": {
  "kernelspec": {
   "display_name": "Python 3",
   "language": "python",
   "name": "python3"
  },
  "language_info": {
   "codemirror_mode": {
    "name": "ipython",
    "version": 3
   },
   "file_extension": ".py",
   "mimetype": "text/x-python",
   "name": "python",
   "nbconvert_exporter": "python",
   "pygments_lexer": "ipython3",
   "version": "3.6.5"
  }
 },
 "nbformat": 4,
 "nbformat_minor": 2
}
